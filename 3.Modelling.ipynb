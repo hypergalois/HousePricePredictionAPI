{
 "cells": [
  {
   "cell_type": "markdown",
   "metadata": {},
   "source": [
    "José Delgado"
   ]
  },
  {
   "cell_type": "code",
   "execution_count": null,
   "metadata": {},
   "outputs": [],
   "source": [
    "from sklearn.impute import SimpleImputer\n",
    "from sklearn.preprocessing import StandardScaler, OneHotEncoder\n",
    "from sklearn.base import BaseEstimator, TransformerMixin"
   ]
  },
  {
   "cell_type": "code",
   "execution_count": null,
   "metadata": {},
   "outputs": [],
   "source": [
    "class Preprocessor(BaseEstimator, TransformerMixin):\n",
    "    def fit(self, X, y=None):\n",
    "        # Crear y ajustar el imputer\n",
    "        self.imputer = SimpleImputer()\n",
    "        self.imputer.fit(X[[\"HouseAge\", \"DistanceToStation\", \"NumberOfPubs\"]])\n",
    "\n",
    "        # Crear y ajustar el scaler\n",
    "        self.scaler = StandardScaler()\n",
    "        self.scaler.fit(X[[\"HouseAge\", \"DistanceToStation\", \"NumberOfPubs\"]])\n",
    "\n",
    "        # Crear y ajustar el onehot encoder\n",
    "        self.onehot = OneHotEncoder(handle_unknown=\"ignore\")\n",
    "        self.onehot.fit(X[[\"PostCode\"]])\n",
    "\n",
    "    def transform(self, X):\n",
    "        # Hacer una copia del DataFrame original para evitar modificarlo\n",
    "        X = X.copy()\n",
    "\n",
    "        # Eliminar filas con valores nulos en las columnas objetivo\n",
    "        X = X.dropna()\n",
    "\n",
    "        # **Manejo de errores en conversiones**\n",
    "        # Detectar valores problemáticos antes de convertir a float\n",
    "        invalid_house_prices = X[~X[\"HousePrice\"].str.replace(\".\", \"\", 1).str.isdigit()]\n",
    "        if not invalid_house_prices.empty:\n",
    "            print(f\"Valores no válidos encontrados en 'HousePrice': {invalid_house_prices}\")\n",
    "            # Eliminar las filas con valores no válidos\n",
    "            X = X[X[\"HousePrice\"].str.replace(\".\", \"\", 1).str.isdigit()]\n",
    "\n",
    "        # Conversión explícita de tipos, asegurándose de consistencia\n",
    "        X = X.astype({\"PostCode\": \"string\", \"TransactionDate\": \"string\", \"HousePrice\": \"float\"})\n",
    "\n",
    "        # Eliminar valores extremos\n",
    "        X = X[X[\"HousePrice\"] <= 3000000]\n",
    "        X = X[X[\"NumberOfPubs\"] <= 20]\n",
    "\n",
    "        # Transformar \"TransactionDate\" en columnas de año y mes\n",
    "        X.loc[:, \"TransactionYear\"] = X[\"TransactionDate\"].apply(lambda x: int(x.split(\".\")[0]))\n",
    "        X.loc[:, \"TransactionMonth\"] = X[\"TransactionDate\"].apply(lambda x: int(x.split(\".\")[1]))\n",
    "        X = X.drop(columns=[\"TransactionDate\"])\n",
    "\n",
    "        # Aplicar el imputer\n",
    "        X[[\"HouseAge\", \"DistanceToStation\", \"NumberOfPubs\"]] = self.imputer.transform(\n",
    "            X[[\"HouseAge\", \"DistanceToStation\", \"NumberOfPubs\"]]\n",
    "        )\n",
    "\n",
    "        # Aplicar el escalador\n",
    "        X[[\"HouseAge\", \"DistanceToStation\", \"NumberOfPubs\"]] = self.scaler.transform(\n",
    "            X[[\"HouseAge\", \"DistanceToStation\", \"NumberOfPubs\"]]\n",
    "        )\n",
    "\n",
    "        # Aplicar el onehot encoder\n",
    "        onehot_encoded = self.onehot.transform(X[[\"PostCode\"]])\n",
    "        X = X.drop(columns=[\"PostCode\"])\n",
    "        X[self.onehot.get_feature_names_out()] = onehot_encoded.toarray().astype(int)\n",
    "\n",
    "        return X"
   ]
  },
  {
   "cell_type": "markdown",
   "metadata": {},
   "source": [
    "# 5. Modelling"
   ]
  },
  {
   "cell_type": "code",
   "execution_count": 1,
   "metadata": {},
   "outputs": [],
   "source": [
    "import pandas as pd\n",
    "from sklearn.model_selection import train_test_split"
   ]
  },
  {
   "cell_type": "code",
   "execution_count": 2,
   "metadata": {},
   "outputs": [],
   "source": [
    "data = pd.read_csv(\"./data/regressiondata.csv\", index_col=\"ID\")"
   ]
  },
  {
   "cell_type": "code",
   "execution_count": 3,
   "metadata": {},
   "outputs": [],
   "source": [
    "train, test = train_test_split(data, test_size=.3, random_state=1234)"
   ]
  },
  {
   "cell_type": "markdown",
   "metadata": {},
   "source": [
    "## Create X and y values"
   ]
  },
  {
   "cell_type": "code",
   "execution_count": 4,
   "metadata": {},
   "outputs": [],
   "source": [
    "X_train = train.drop(columns=[\"HousePrice\"])\n",
    "y_train = train[\"HousePrice\"]"
   ]
  },
  {
   "cell_type": "markdown",
   "metadata": {},
   "source": [
    "## Import ML Dependencies"
   ]
  },
  {
   "cell_type": "code",
   "execution_count": 5,
   "metadata": {},
   "outputs": [],
   "source": [
    "from sklearn.pipeline import make_pipeline\n",
    "from sklearn.linear_model import Ridge\n",
    "from sklearn.ensemble import RandomForestRegressor, GradientBoostingRegressor\n",
    "from xgboost.sklearn import XGBRegressor"
   ]
  },
  {
   "cell_type": "markdown",
   "metadata": {},
   "source": [
    "## Create Pipelines"
   ]
  },
  {
   "cell_type": "code",
   "execution_count": null,
   "metadata": {},
   "outputs": [],
   "source": []
  },
  {
   "cell_type": "markdown",
   "metadata": {},
   "source": [
    "### Training Outside of a Pipeline"
   ]
  },
  {
   "cell_type": "markdown",
   "metadata": {},
   "source": [
    "## Create Tuning Grids"
   ]
  },
  {
   "cell_type": "markdown",
   "metadata": {},
   "source": [
    "## Train Models and Perform HPO"
   ]
  }
 ],
 "metadata": {
  "kernelspec": {
   "display_name": "3.13.0",
   "language": "python",
   "name": "python3"
  },
  "language_info": {
   "codemirror_mode": {
    "name": "ipython",
    "version": 3
   },
   "file_extension": ".py",
   "mimetype": "text/x-python",
   "name": "python",
   "nbconvert_exporter": "python",
   "pygments_lexer": "ipython3",
   "version": "3.13.0"
  }
 },
 "nbformat": 4,
 "nbformat_minor": 2
}
