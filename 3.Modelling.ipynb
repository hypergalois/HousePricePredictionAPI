{
 "cells": [
  {
   "cell_type": "markdown",
   "metadata": {},
   "source": [
    "José Delgado"
   ]
  },
  {
   "cell_type": "markdown",
   "metadata": {},
   "source": [
    "## Save Models"
   ]
  },
  {
   "cell_type": "code",
   "execution_count": null,
   "metadata": {},
   "outputs": [],
   "source": [
    "import dill"
   ]
  },
  {
   "cell_type": "code",
   "execution_count": 232,
   "metadata": {},
   "outputs": [],
   "source": [
    "from sklearn.impute import SimpleImputer\n",
    "from sklearn.preprocessing import StandardScaler, OneHotEncoder\n",
    "from sklearn.base import BaseEstimator, TransformerMixin\n",
    "from sklearn.compose import TransformedTargetRegressor\n",
    "import pandas as pd\n",
    "import numpy as np"
   ]
  },
  {
   "cell_type": "code",
   "execution_count": 233,
   "metadata": {},
   "outputs": [],
   "source": [
    "def y_transform(y):\n",
    "    \"\"\"\n",
    "    Recibe y como (n,) o (n,1) y devuelve (n,1).\n",
    "    \"\"\"\n",
    "    # Asegurarte de que sea 1D\n",
    "    y = np.ravel(y)  # pasa a forma (n,)\n",
    "\n",
    "    s = pd.Series(y)  # para poder usar replace y to_numeric\n",
    "    s = pd.to_numeric(s, errors=\"coerce\")\n",
    "    mean_val = s.mean()\n",
    "    s = s.fillna(mean_val)\n",
    "\n",
    "    # Regresamos a (n,1) en vez de (n,) \n",
    "    return s.to_numpy().reshape(-1, 1)\n",
    "\n",
    "def y_inverse_transform(y):\n",
    "    \"\"\"\n",
    "    Recibe (n,1), o (n,) y devuelve (n,1). \n",
    "    Si no necesitas realmente \"des-transformar\" nada,\n",
    "    simplemente devuélvelo en la misma forma 2D.\n",
    "    \"\"\"\n",
    "    if y.ndim == 1:\n",
    "        y = y.reshape(-1, 1)\n",
    "    return y"
   ]
  },
  {
   "cell_type": "code",
   "execution_count": 234,
   "metadata": {},
   "outputs": [],
   "source": [
    "class Preprocessor(BaseEstimator, TransformerMixin):\n",
    "    def fit(self, X, y=None):\n",
    "        # Crear y ajustar el imputer\n",
    "        self.imputer = SimpleImputer()\n",
    "        self.imputer.fit(X[[\"HouseAge\", \"DistanceToStation\", \"NumberOfPubs\"]])\n",
    "\n",
    "        # Crear y ajustar el scaler\n",
    "        self.scaler = StandardScaler()\n",
    "        self.scaler.fit(X[[\"HouseAge\", \"DistanceToStation\", \"NumberOfPubs\"]])\n",
    "\n",
    "        # Crear y ajustar el onehot encoder\n",
    "        self.onehot = OneHotEncoder(handle_unknown=\"ignore\")\n",
    "        self.onehot.fit(X[[\"PostCode\"]])\n",
    "\n",
    "        return self\n",
    "\n",
    "    def transform(self, X):\n",
    "        # Hacer una copia del DataFrame original para evitar modificarlo\n",
    "        X = X.copy()\n",
    "\n",
    "        # Eliminar filas con valores nulos en las columnas objetivo\n",
    "        # X = X.dropna()\n",
    "        # OJO: NO se eliminan filas aquí porque da lugar a misalignment con 'y'\n",
    "\n",
    "        # **Manejo de errores en conversiones**\n",
    "        # Conversión explícita de tipos, asegurándose de consistencia\n",
    "        X = X.astype({\"PostCode\": \"string\", \"TransactionDate\": \"string\"})\n",
    "\n",
    "        # Transformar \"TransactionDate\" en columnas de año y mes\n",
    "        X.loc[:, \"TransactionYear\"] = X[\"TransactionDate\"].apply(lambda x: int(x.split(\".\")[0]))\n",
    "        X.loc[:, \"TransactionMonth\"] = X[\"TransactionDate\"].apply(lambda x: int(x.split(\".\")[1]))\n",
    "        X = X.drop(columns=[\"TransactionDate\"])\n",
    "\n",
    "        # Aplicar el imputer\n",
    "        X[[\"HouseAge\", \"DistanceToStation\", \"NumberOfPubs\"]] = self.imputer.transform(\n",
    "            X[[\"HouseAge\", \"DistanceToStation\", \"NumberOfPubs\"]]\n",
    "        )\n",
    "\n",
    "        # Aplicar el escalador\n",
    "        X[[\"HouseAge\", \"DistanceToStation\", \"NumberOfPubs\"]] = self.scaler.transform(\n",
    "            X[[\"HouseAge\", \"DistanceToStation\", \"NumberOfPubs\"]]\n",
    "        )\n",
    "\n",
    "        # Aplicar el onehot encoder\n",
    "        onehot_encoded = self.onehot.transform(X[[\"PostCode\"]])\n",
    "        X = X.drop(columns=[\"PostCode\"])\n",
    "        X[self.onehot.get_feature_names_out()] = onehot_encoded.toarray().astype(int)\n",
    "\n",
    "        return X"
   ]
  },
  {
   "cell_type": "markdown",
   "metadata": {},
   "source": [
    "# 5. Modelling"
   ]
  },
  {
   "cell_type": "code",
   "execution_count": 235,
   "metadata": {},
   "outputs": [],
   "source": [
    "import pandas as pd\n",
    "from sklearn.model_selection import train_test_split"
   ]
  },
  {
   "cell_type": "code",
   "execution_count": 236,
   "metadata": {},
   "outputs": [],
   "source": [
    "data = pd.read_csv(\"./data/regressiondata.csv\", index_col=\"ID\")"
   ]
  },
  {
   "cell_type": "markdown",
   "metadata": {},
   "source": [
    "Hacemos un debug explícito antes de entrenar, no es elegante pero es lo que hay."
   ]
  },
  {
   "cell_type": "code",
   "execution_count": 237,
   "metadata": {},
   "outputs": [],
   "source": [
    "data = data[data[\"HousePrice\"] != \"??\"]"
   ]
  },
  {
   "cell_type": "code",
   "execution_count": 238,
   "metadata": {},
   "outputs": [],
   "source": [
    "data = data.dropna()"
   ]
  },
  {
   "cell_type": "markdown",
   "metadata": {},
   "source": [
    "Todo lo que sea eliminar filas hay que hacerlo antes del pipeline..."
   ]
  },
  {
   "cell_type": "code",
   "execution_count": 239,
   "metadata": {},
   "outputs": [],
   "source": [
    "# Eliminar valores extremos\n",
    "data = data[data[\"NumberOfPubs\"] <= 20]"
   ]
  },
  {
   "cell_type": "code",
   "execution_count": 240,
   "metadata": {},
   "outputs": [],
   "source": [
    "train, test = train_test_split(data, test_size=.3, random_state=1234)"
   ]
  },
  {
   "cell_type": "markdown",
   "metadata": {},
   "source": [
    "## Create X and y values"
   ]
  },
  {
   "cell_type": "code",
   "execution_count": 241,
   "metadata": {},
   "outputs": [],
   "source": [
    "X_train = train.drop(columns=[\"HousePrice\"])\n",
    "y_train = train[\"HousePrice\"]"
   ]
  },
  {
   "cell_type": "code",
   "execution_count": 242,
   "metadata": {},
   "outputs": [
    {
     "name": "stdout",
     "output_type": "stream",
     "text": [
      "Forma de X: (6539, 5)\n",
      "Forma de y: (6539,)\n"
     ]
    }
   ],
   "source": [
    "print(\"Forma de X:\", X_train.shape)\n",
    "print(\"Forma de y:\", y_train.shape)"
   ]
  },
  {
   "cell_type": "code",
   "execution_count": 243,
   "metadata": {},
   "outputs": [],
   "source": [
    "X_train = X_train.reset_index(drop=True)\n",
    "y_train = y_train.reset_index(drop=True)"
   ]
  },
  {
   "cell_type": "markdown",
   "metadata": {},
   "source": [
    "## Import ML Dependencies"
   ]
  },
  {
   "cell_type": "code",
   "execution_count": 244,
   "metadata": {},
   "outputs": [],
   "source": [
    "from sklearn.pipeline import make_pipeline\n",
    "from sklearn.linear_model import Ridge\n",
    "from sklearn.ensemble import RandomForestRegressor, GradientBoostingRegressor\n",
    "from xgboost.sklearn import XGBRegressor"
   ]
  },
  {
   "cell_type": "markdown",
   "metadata": {},
   "source": [
    "## Create Pipelines"
   ]
  },
  {
   "cell_type": "code",
   "execution_count": 245,
   "metadata": {},
   "outputs": [],
   "source": [
    "pipelines = {\n",
    "    \"ridge\": make_pipeline(Preprocessor(), TransformedTargetRegressor(regressor=Ridge(), func=y_transform, inverse_func=y_inverse_transform)),\n",
    "    \"random_forest\": make_pipeline(Preprocessor(), TransformedTargetRegressor(regressor=RandomForestRegressor(), func=y_transform, inverse_func=y_inverse_transform)),\n",
    "    \"gradient_boosting\": make_pipeline(Preprocessor(), TransformedTargetRegressor(regressor=GradientBoostingRegressor(), func=y_transform, inverse_func=y_inverse_transform)),\n",
    "    \"xgboost\": make_pipeline(Preprocessor(), TransformedTargetRegressor(regressor=XGBRegressor(), func=y_transform, inverse_func=y_inverse_transform))\n",
    "}"
   ]
  },
  {
   "cell_type": "code",
   "execution_count": 246,
   "metadata": {},
   "outputs": [
    {
     "data": {
      "text/html": [
       "<style>#sk-container-id-12 {\n",
       "  /* Definition of color scheme common for light and dark mode */\n",
       "  --sklearn-color-text: black;\n",
       "  --sklearn-color-line: gray;\n",
       "  /* Definition of color scheme for unfitted estimators */\n",
       "  --sklearn-color-unfitted-level-0: #fff5e6;\n",
       "  --sklearn-color-unfitted-level-1: #f6e4d2;\n",
       "  --sklearn-color-unfitted-level-2: #ffe0b3;\n",
       "  --sklearn-color-unfitted-level-3: chocolate;\n",
       "  /* Definition of color scheme for fitted estimators */\n",
       "  --sklearn-color-fitted-level-0: #f0f8ff;\n",
       "  --sklearn-color-fitted-level-1: #d4ebff;\n",
       "  --sklearn-color-fitted-level-2: #b3dbfd;\n",
       "  --sklearn-color-fitted-level-3: cornflowerblue;\n",
       "\n",
       "  /* Specific color for light theme */\n",
       "  --sklearn-color-text-on-default-background: var(--sg-text-color, var(--theme-code-foreground, var(--jp-content-font-color1, black)));\n",
       "  --sklearn-color-background: var(--sg-background-color, var(--theme-background, var(--jp-layout-color0, white)));\n",
       "  --sklearn-color-border-box: var(--sg-text-color, var(--theme-code-foreground, var(--jp-content-font-color1, black)));\n",
       "  --sklearn-color-icon: #696969;\n",
       "\n",
       "  @media (prefers-color-scheme: dark) {\n",
       "    /* Redefinition of color scheme for dark theme */\n",
       "    --sklearn-color-text-on-default-background: var(--sg-text-color, var(--theme-code-foreground, var(--jp-content-font-color1, white)));\n",
       "    --sklearn-color-background: var(--sg-background-color, var(--theme-background, var(--jp-layout-color0, #111)));\n",
       "    --sklearn-color-border-box: var(--sg-text-color, var(--theme-code-foreground, var(--jp-content-font-color1, white)));\n",
       "    --sklearn-color-icon: #878787;\n",
       "  }\n",
       "}\n",
       "\n",
       "#sk-container-id-12 {\n",
       "  color: var(--sklearn-color-text);\n",
       "}\n",
       "\n",
       "#sk-container-id-12 pre {\n",
       "  padding: 0;\n",
       "}\n",
       "\n",
       "#sk-container-id-12 input.sk-hidden--visually {\n",
       "  border: 0;\n",
       "  clip: rect(1px 1px 1px 1px);\n",
       "  clip: rect(1px, 1px, 1px, 1px);\n",
       "  height: 1px;\n",
       "  margin: -1px;\n",
       "  overflow: hidden;\n",
       "  padding: 0;\n",
       "  position: absolute;\n",
       "  width: 1px;\n",
       "}\n",
       "\n",
       "#sk-container-id-12 div.sk-dashed-wrapped {\n",
       "  border: 1px dashed var(--sklearn-color-line);\n",
       "  margin: 0 0.4em 0.5em 0.4em;\n",
       "  box-sizing: border-box;\n",
       "  padding-bottom: 0.4em;\n",
       "  background-color: var(--sklearn-color-background);\n",
       "}\n",
       "\n",
       "#sk-container-id-12 div.sk-container {\n",
       "  /* jupyter's `normalize.less` sets `[hidden] { display: none; }`\n",
       "     but bootstrap.min.css set `[hidden] { display: none !important; }`\n",
       "     so we also need the `!important` here to be able to override the\n",
       "     default hidden behavior on the sphinx rendered scikit-learn.org.\n",
       "     See: https://github.com/scikit-learn/scikit-learn/issues/21755 */\n",
       "  display: inline-block !important;\n",
       "  position: relative;\n",
       "}\n",
       "\n",
       "#sk-container-id-12 div.sk-text-repr-fallback {\n",
       "  display: none;\n",
       "}\n",
       "\n",
       "div.sk-parallel-item,\n",
       "div.sk-serial,\n",
       "div.sk-item {\n",
       "  /* draw centered vertical line to link estimators */\n",
       "  background-image: linear-gradient(var(--sklearn-color-text-on-default-background), var(--sklearn-color-text-on-default-background));\n",
       "  background-size: 2px 100%;\n",
       "  background-repeat: no-repeat;\n",
       "  background-position: center center;\n",
       "}\n",
       "\n",
       "/* Parallel-specific style estimator block */\n",
       "\n",
       "#sk-container-id-12 div.sk-parallel-item::after {\n",
       "  content: \"\";\n",
       "  width: 100%;\n",
       "  border-bottom: 2px solid var(--sklearn-color-text-on-default-background);\n",
       "  flex-grow: 1;\n",
       "}\n",
       "\n",
       "#sk-container-id-12 div.sk-parallel {\n",
       "  display: flex;\n",
       "  align-items: stretch;\n",
       "  justify-content: center;\n",
       "  background-color: var(--sklearn-color-background);\n",
       "  position: relative;\n",
       "}\n",
       "\n",
       "#sk-container-id-12 div.sk-parallel-item {\n",
       "  display: flex;\n",
       "  flex-direction: column;\n",
       "}\n",
       "\n",
       "#sk-container-id-12 div.sk-parallel-item:first-child::after {\n",
       "  align-self: flex-end;\n",
       "  width: 50%;\n",
       "}\n",
       "\n",
       "#sk-container-id-12 div.sk-parallel-item:last-child::after {\n",
       "  align-self: flex-start;\n",
       "  width: 50%;\n",
       "}\n",
       "\n",
       "#sk-container-id-12 div.sk-parallel-item:only-child::after {\n",
       "  width: 0;\n",
       "}\n",
       "\n",
       "/* Serial-specific style estimator block */\n",
       "\n",
       "#sk-container-id-12 div.sk-serial {\n",
       "  display: flex;\n",
       "  flex-direction: column;\n",
       "  align-items: center;\n",
       "  background-color: var(--sklearn-color-background);\n",
       "  padding-right: 1em;\n",
       "  padding-left: 1em;\n",
       "}\n",
       "\n",
       "\n",
       "/* Toggleable style: style used for estimator/Pipeline/ColumnTransformer box that is\n",
       "clickable and can be expanded/collapsed.\n",
       "- Pipeline and ColumnTransformer use this feature and define the default style\n",
       "- Estimators will overwrite some part of the style using the `sk-estimator` class\n",
       "*/\n",
       "\n",
       "/* Pipeline and ColumnTransformer style (default) */\n",
       "\n",
       "#sk-container-id-12 div.sk-toggleable {\n",
       "  /* Default theme specific background. It is overwritten whether we have a\n",
       "  specific estimator or a Pipeline/ColumnTransformer */\n",
       "  background-color: var(--sklearn-color-background);\n",
       "}\n",
       "\n",
       "/* Toggleable label */\n",
       "#sk-container-id-12 label.sk-toggleable__label {\n",
       "  cursor: pointer;\n",
       "  display: block;\n",
       "  width: 100%;\n",
       "  margin-bottom: 0;\n",
       "  padding: 0.5em;\n",
       "  box-sizing: border-box;\n",
       "  text-align: center;\n",
       "}\n",
       "\n",
       "#sk-container-id-12 label.sk-toggleable__label-arrow:before {\n",
       "  /* Arrow on the left of the label */\n",
       "  content: \"▸\";\n",
       "  float: left;\n",
       "  margin-right: 0.25em;\n",
       "  color: var(--sklearn-color-icon);\n",
       "}\n",
       "\n",
       "#sk-container-id-12 label.sk-toggleable__label-arrow:hover:before {\n",
       "  color: var(--sklearn-color-text);\n",
       "}\n",
       "\n",
       "/* Toggleable content - dropdown */\n",
       "\n",
       "#sk-container-id-12 div.sk-toggleable__content {\n",
       "  max-height: 0;\n",
       "  max-width: 0;\n",
       "  overflow: hidden;\n",
       "  text-align: left;\n",
       "  /* unfitted */\n",
       "  background-color: var(--sklearn-color-unfitted-level-0);\n",
       "}\n",
       "\n",
       "#sk-container-id-12 div.sk-toggleable__content.fitted {\n",
       "  /* fitted */\n",
       "  background-color: var(--sklearn-color-fitted-level-0);\n",
       "}\n",
       "\n",
       "#sk-container-id-12 div.sk-toggleable__content pre {\n",
       "  margin: 0.2em;\n",
       "  border-radius: 0.25em;\n",
       "  color: var(--sklearn-color-text);\n",
       "  /* unfitted */\n",
       "  background-color: var(--sklearn-color-unfitted-level-0);\n",
       "}\n",
       "\n",
       "#sk-container-id-12 div.sk-toggleable__content.fitted pre {\n",
       "  /* unfitted */\n",
       "  background-color: var(--sklearn-color-fitted-level-0);\n",
       "}\n",
       "\n",
       "#sk-container-id-12 input.sk-toggleable__control:checked~div.sk-toggleable__content {\n",
       "  /* Expand drop-down */\n",
       "  max-height: 200px;\n",
       "  max-width: 100%;\n",
       "  overflow: auto;\n",
       "}\n",
       "\n",
       "#sk-container-id-12 input.sk-toggleable__control:checked~label.sk-toggleable__label-arrow:before {\n",
       "  content: \"▾\";\n",
       "}\n",
       "\n",
       "/* Pipeline/ColumnTransformer-specific style */\n",
       "\n",
       "#sk-container-id-12 div.sk-label input.sk-toggleable__control:checked~label.sk-toggleable__label {\n",
       "  color: var(--sklearn-color-text);\n",
       "  background-color: var(--sklearn-color-unfitted-level-2);\n",
       "}\n",
       "\n",
       "#sk-container-id-12 div.sk-label.fitted input.sk-toggleable__control:checked~label.sk-toggleable__label {\n",
       "  background-color: var(--sklearn-color-fitted-level-2);\n",
       "}\n",
       "\n",
       "/* Estimator-specific style */\n",
       "\n",
       "/* Colorize estimator box */\n",
       "#sk-container-id-12 div.sk-estimator input.sk-toggleable__control:checked~label.sk-toggleable__label {\n",
       "  /* unfitted */\n",
       "  background-color: var(--sklearn-color-unfitted-level-2);\n",
       "}\n",
       "\n",
       "#sk-container-id-12 div.sk-estimator.fitted input.sk-toggleable__control:checked~label.sk-toggleable__label {\n",
       "  /* fitted */\n",
       "  background-color: var(--sklearn-color-fitted-level-2);\n",
       "}\n",
       "\n",
       "#sk-container-id-12 div.sk-label label.sk-toggleable__label,\n",
       "#sk-container-id-12 div.sk-label label {\n",
       "  /* The background is the default theme color */\n",
       "  color: var(--sklearn-color-text-on-default-background);\n",
       "}\n",
       "\n",
       "/* On hover, darken the color of the background */\n",
       "#sk-container-id-12 div.sk-label:hover label.sk-toggleable__label {\n",
       "  color: var(--sklearn-color-text);\n",
       "  background-color: var(--sklearn-color-unfitted-level-2);\n",
       "}\n",
       "\n",
       "/* Label box, darken color on hover, fitted */\n",
       "#sk-container-id-12 div.sk-label.fitted:hover label.sk-toggleable__label.fitted {\n",
       "  color: var(--sklearn-color-text);\n",
       "  background-color: var(--sklearn-color-fitted-level-2);\n",
       "}\n",
       "\n",
       "/* Estimator label */\n",
       "\n",
       "#sk-container-id-12 div.sk-label label {\n",
       "  font-family: monospace;\n",
       "  font-weight: bold;\n",
       "  display: inline-block;\n",
       "  line-height: 1.2em;\n",
       "}\n",
       "\n",
       "#sk-container-id-12 div.sk-label-container {\n",
       "  text-align: center;\n",
       "}\n",
       "\n",
       "/* Estimator-specific */\n",
       "#sk-container-id-12 div.sk-estimator {\n",
       "  font-family: monospace;\n",
       "  border: 1px dotted var(--sklearn-color-border-box);\n",
       "  border-radius: 0.25em;\n",
       "  box-sizing: border-box;\n",
       "  margin-bottom: 0.5em;\n",
       "  /* unfitted */\n",
       "  background-color: var(--sklearn-color-unfitted-level-0);\n",
       "}\n",
       "\n",
       "#sk-container-id-12 div.sk-estimator.fitted {\n",
       "  /* fitted */\n",
       "  background-color: var(--sklearn-color-fitted-level-0);\n",
       "}\n",
       "\n",
       "/* on hover */\n",
       "#sk-container-id-12 div.sk-estimator:hover {\n",
       "  /* unfitted */\n",
       "  background-color: var(--sklearn-color-unfitted-level-2);\n",
       "}\n",
       "\n",
       "#sk-container-id-12 div.sk-estimator.fitted:hover {\n",
       "  /* fitted */\n",
       "  background-color: var(--sklearn-color-fitted-level-2);\n",
       "}\n",
       "\n",
       "/* Specification for estimator info (e.g. \"i\" and \"?\") */\n",
       "\n",
       "/* Common style for \"i\" and \"?\" */\n",
       "\n",
       ".sk-estimator-doc-link,\n",
       "a:link.sk-estimator-doc-link,\n",
       "a:visited.sk-estimator-doc-link {\n",
       "  float: right;\n",
       "  font-size: smaller;\n",
       "  line-height: 1em;\n",
       "  font-family: monospace;\n",
       "  background-color: var(--sklearn-color-background);\n",
       "  border-radius: 1em;\n",
       "  height: 1em;\n",
       "  width: 1em;\n",
       "  text-decoration: none !important;\n",
       "  margin-left: 1ex;\n",
       "  /* unfitted */\n",
       "  border: var(--sklearn-color-unfitted-level-1) 1pt solid;\n",
       "  color: var(--sklearn-color-unfitted-level-1);\n",
       "}\n",
       "\n",
       ".sk-estimator-doc-link.fitted,\n",
       "a:link.sk-estimator-doc-link.fitted,\n",
       "a:visited.sk-estimator-doc-link.fitted {\n",
       "  /* fitted */\n",
       "  border: var(--sklearn-color-fitted-level-1) 1pt solid;\n",
       "  color: var(--sklearn-color-fitted-level-1);\n",
       "}\n",
       "\n",
       "/* On hover */\n",
       "div.sk-estimator:hover .sk-estimator-doc-link:hover,\n",
       ".sk-estimator-doc-link:hover,\n",
       "div.sk-label-container:hover .sk-estimator-doc-link:hover,\n",
       ".sk-estimator-doc-link:hover {\n",
       "  /* unfitted */\n",
       "  background-color: var(--sklearn-color-unfitted-level-3);\n",
       "  color: var(--sklearn-color-background);\n",
       "  text-decoration: none;\n",
       "}\n",
       "\n",
       "div.sk-estimator.fitted:hover .sk-estimator-doc-link.fitted:hover,\n",
       ".sk-estimator-doc-link.fitted:hover,\n",
       "div.sk-label-container:hover .sk-estimator-doc-link.fitted:hover,\n",
       ".sk-estimator-doc-link.fitted:hover {\n",
       "  /* fitted */\n",
       "  background-color: var(--sklearn-color-fitted-level-3);\n",
       "  color: var(--sklearn-color-background);\n",
       "  text-decoration: none;\n",
       "}\n",
       "\n",
       "/* Span, style for the box shown on hovering the info icon */\n",
       ".sk-estimator-doc-link span {\n",
       "  display: none;\n",
       "  z-index: 9999;\n",
       "  position: relative;\n",
       "  font-weight: normal;\n",
       "  right: .2ex;\n",
       "  padding: .5ex;\n",
       "  margin: .5ex;\n",
       "  width: min-content;\n",
       "  min-width: 20ex;\n",
       "  max-width: 50ex;\n",
       "  color: var(--sklearn-color-text);\n",
       "  box-shadow: 2pt 2pt 4pt #999;\n",
       "  /* unfitted */\n",
       "  background: var(--sklearn-color-unfitted-level-0);\n",
       "  border: .5pt solid var(--sklearn-color-unfitted-level-3);\n",
       "}\n",
       "\n",
       ".sk-estimator-doc-link.fitted span {\n",
       "  /* fitted */\n",
       "  background: var(--sklearn-color-fitted-level-0);\n",
       "  border: var(--sklearn-color-fitted-level-3);\n",
       "}\n",
       "\n",
       ".sk-estimator-doc-link:hover span {\n",
       "  display: block;\n",
       "}\n",
       "\n",
       "/* \"?\"-specific style due to the `<a>` HTML tag */\n",
       "\n",
       "#sk-container-id-12 a.estimator_doc_link {\n",
       "  float: right;\n",
       "  font-size: 1rem;\n",
       "  line-height: 1em;\n",
       "  font-family: monospace;\n",
       "  background-color: var(--sklearn-color-background);\n",
       "  border-radius: 1rem;\n",
       "  height: 1rem;\n",
       "  width: 1rem;\n",
       "  text-decoration: none;\n",
       "  /* unfitted */\n",
       "  color: var(--sklearn-color-unfitted-level-1);\n",
       "  border: var(--sklearn-color-unfitted-level-1) 1pt solid;\n",
       "}\n",
       "\n",
       "#sk-container-id-12 a.estimator_doc_link.fitted {\n",
       "  /* fitted */\n",
       "  border: var(--sklearn-color-fitted-level-1) 1pt solid;\n",
       "  color: var(--sklearn-color-fitted-level-1);\n",
       "}\n",
       "\n",
       "/* On hover */\n",
       "#sk-container-id-12 a.estimator_doc_link:hover {\n",
       "  /* unfitted */\n",
       "  background-color: var(--sklearn-color-unfitted-level-3);\n",
       "  color: var(--sklearn-color-background);\n",
       "  text-decoration: none;\n",
       "}\n",
       "\n",
       "#sk-container-id-12 a.estimator_doc_link.fitted:hover {\n",
       "  /* fitted */\n",
       "  background-color: var(--sklearn-color-fitted-level-3);\n",
       "}\n",
       "</style><div id=\"sk-container-id-12\" class=\"sk-top-container\"><div class=\"sk-text-repr-fallback\"><pre>Pipeline(steps=[(&#x27;preprocessor&#x27;, Preprocessor()),\n",
       "                (&#x27;transformedtargetregressor&#x27;,\n",
       "                 TransformedTargetRegressor(func=&lt;function y_transform at 0x12d750fe0&gt;,\n",
       "                                            inverse_func=&lt;function y_inverse_transform at 0x12d751260&gt;,\n",
       "                                            regressor=Ridge()))])</pre><b>In a Jupyter environment, please rerun this cell to show the HTML representation or trust the notebook. <br />On GitHub, the HTML representation is unable to render, please try loading this page with nbviewer.org.</b></div><div class=\"sk-container\" hidden><div class=\"sk-item sk-dashed-wrapped\"><div class=\"sk-label-container\"><div class=\"sk-label  sk-toggleable\"><input class=\"sk-toggleable__control sk-hidden--visually\" id=\"sk-estimator-id-56\" type=\"checkbox\" ><label for=\"sk-estimator-id-56\" class=\"sk-toggleable__label  sk-toggleable__label-arrow \">&nbsp;&nbsp;Pipeline<a class=\"sk-estimator-doc-link \" rel=\"noreferrer\" target=\"_blank\" href=\"https://scikit-learn.org/1.5/modules/generated/sklearn.pipeline.Pipeline.html\">?<span>Documentation for Pipeline</span></a><span class=\"sk-estimator-doc-link \">i<span>Not fitted</span></span></label><div class=\"sk-toggleable__content \"><pre>Pipeline(steps=[(&#x27;preprocessor&#x27;, Preprocessor()),\n",
       "                (&#x27;transformedtargetregressor&#x27;,\n",
       "                 TransformedTargetRegressor(func=&lt;function y_transform at 0x12d750fe0&gt;,\n",
       "                                            inverse_func=&lt;function y_inverse_transform at 0x12d751260&gt;,\n",
       "                                            regressor=Ridge()))])</pre></div> </div></div><div class=\"sk-serial\"><div class=\"sk-item\"><div class=\"sk-estimator  sk-toggleable\"><input class=\"sk-toggleable__control sk-hidden--visually\" id=\"sk-estimator-id-57\" type=\"checkbox\" ><label for=\"sk-estimator-id-57\" class=\"sk-toggleable__label  sk-toggleable__label-arrow \">Preprocessor</label><div class=\"sk-toggleable__content \"><pre>Preprocessor()</pre></div> </div></div><div class=\"sk-item sk-dashed-wrapped\"><div class=\"sk-label-container\"><div class=\"sk-label  sk-toggleable\"><input class=\"sk-toggleable__control sk-hidden--visually\" id=\"sk-estimator-id-58\" type=\"checkbox\" ><label for=\"sk-estimator-id-58\" class=\"sk-toggleable__label  sk-toggleable__label-arrow \">&nbsp;transformedtargetregressor: TransformedTargetRegressor<a class=\"sk-estimator-doc-link \" rel=\"noreferrer\" target=\"_blank\" href=\"https://scikit-learn.org/1.5/modules/generated/sklearn.compose.TransformedTargetRegressor.html\">?<span>Documentation for transformedtargetregressor: TransformedTargetRegressor</span></a></label><div class=\"sk-toggleable__content \"><pre>TransformedTargetRegressor(func=&lt;function y_transform at 0x12d750fe0&gt;,\n",
       "                           inverse_func=&lt;function y_inverse_transform at 0x12d751260&gt;,\n",
       "                           regressor=Ridge())</pre></div> </div></div><div class=\"sk-parallel\"><div class=\"sk-parallel-item\"><div class=\"sk-item\"><div class=\"sk-label-container\"><div class=\"sk-label  sk-toggleable\"><input class=\"sk-toggleable__control sk-hidden--visually\" id=\"sk-estimator-id-59\" type=\"checkbox\" ><label for=\"sk-estimator-id-59\" class=\"sk-toggleable__label  sk-toggleable__label-arrow \">regressor: Ridge</label><div class=\"sk-toggleable__content \"><pre>Ridge()</pre></div> </div></div><div class=\"sk-serial\"><div class=\"sk-item\"><div class=\"sk-estimator  sk-toggleable\"><input class=\"sk-toggleable__control sk-hidden--visually\" id=\"sk-estimator-id-60\" type=\"checkbox\" ><label for=\"sk-estimator-id-60\" class=\"sk-toggleable__label  sk-toggleable__label-arrow \">&nbsp;Ridge<a class=\"sk-estimator-doc-link \" rel=\"noreferrer\" target=\"_blank\" href=\"https://scikit-learn.org/1.5/modules/generated/sklearn.linear_model.Ridge.html\">?<span>Documentation for Ridge</span></a></label><div class=\"sk-toggleable__content \"><pre>Ridge()</pre></div> </div></div></div></div></div></div></div></div></div></div></div>"
      ],
      "text/plain": [
       "Pipeline(steps=[('preprocessor', Preprocessor()),\n",
       "                ('transformedtargetregressor',\n",
       "                 TransformedTargetRegressor(func=<function y_transform at 0x12d750fe0>,\n",
       "                                            inverse_func=<function y_inverse_transform at 0x12d751260>,\n",
       "                                            regressor=Ridge()))])"
      ]
     },
     "execution_count": 246,
     "metadata": {},
     "output_type": "execute_result"
    }
   ],
   "source": [
    "pipelines['ridge']"
   ]
  },
  {
   "cell_type": "code",
   "execution_count": 247,
   "metadata": {},
   "outputs": [
    {
     "data": {
      "text/plain": [
       "{'preprocessor': Preprocessor(),\n",
       " 'transformedtargetregressor': TransformedTargetRegressor(func=<function y_transform at 0x12d750fe0>,\n",
       "                            inverse_func=<function y_inverse_transform at 0x12d751260>,\n",
       "                            regressor=Ridge())}"
      ]
     },
     "execution_count": 247,
     "metadata": {},
     "output_type": "execute_result"
    }
   ],
   "source": [
    "pipelines['ridge'].named_steps"
   ]
  },
  {
   "cell_type": "code",
   "execution_count": 248,
   "metadata": {},
   "outputs": [
    {
     "data": {
      "text/plain": [
       "{'memory': None,\n",
       " 'steps': [('preprocessor', Preprocessor()),\n",
       "  ('transformedtargetregressor',\n",
       "   TransformedTargetRegressor(func=<function y_transform at 0x12d750fe0>,\n",
       "                              inverse_func=<function y_inverse_transform at 0x12d751260>,\n",
       "                              regressor=Ridge()))],\n",
       " 'verbose': False,\n",
       " 'preprocessor': Preprocessor(),\n",
       " 'transformedtargetregressor': TransformedTargetRegressor(func=<function y_transform at 0x12d750fe0>,\n",
       "                            inverse_func=<function y_inverse_transform at 0x12d751260>,\n",
       "                            regressor=Ridge()),\n",
       " 'transformedtargetregressor__check_inverse': True,\n",
       " 'transformedtargetregressor__func': <function __main__.y_transform(y)>,\n",
       " 'transformedtargetregressor__inverse_func': <function __main__.y_inverse_transform(y)>,\n",
       " 'transformedtargetregressor__regressor__alpha': 1.0,\n",
       " 'transformedtargetregressor__regressor__copy_X': True,\n",
       " 'transformedtargetregressor__regressor__fit_intercept': True,\n",
       " 'transformedtargetregressor__regressor__max_iter': None,\n",
       " 'transformedtargetregressor__regressor__positive': False,\n",
       " 'transformedtargetregressor__regressor__random_state': None,\n",
       " 'transformedtargetregressor__regressor__solver': 'auto',\n",
       " 'transformedtargetregressor__regressor__tol': 0.0001,\n",
       " 'transformedtargetregressor__regressor': Ridge(),\n",
       " 'transformedtargetregressor__transformer': None}"
      ]
     },
     "execution_count": 248,
     "metadata": {},
     "output_type": "execute_result"
    }
   ],
   "source": [
    "pipelines['ridge'].get_params()"
   ]
  },
  {
   "cell_type": "code",
   "execution_count": 249,
   "metadata": {},
   "outputs": [
    {
     "data": {
      "text/plain": [
       "1.0"
      ]
     },
     "execution_count": 249,
     "metadata": {},
     "output_type": "execute_result"
    }
   ],
   "source": [
    "pipelines[\"ridge\"][\"transformedtargetregressor\"].get_params()[\"regressor\"].alpha"
   ]
  },
  {
   "cell_type": "code",
   "execution_count": 250,
   "metadata": {},
   "outputs": [
    {
     "data": {
      "text/plain": [
       "1.0"
      ]
     },
     "execution_count": 250,
     "metadata": {},
     "output_type": "execute_result"
    }
   ],
   "source": [
    "pipelines[\"ridge\"].named_steps[\"transformedtargetregressor\"].regressor.alpha"
   ]
  },
  {
   "cell_type": "markdown",
   "metadata": {},
   "source": [
    "## Create Tuning Grids"
   ]
  },
  {
   "cell_type": "code",
   "execution_count": 251,
   "metadata": {},
   "outputs": [],
   "source": [
    "grid = {\n",
    "    \"ridge\": {\n",
    "        \"transformedtargetregressor__regressor__alpha\": [0.05, 0.1, 0.25, 0.5, 1, 5, 10]\n",
    "    },\n",
    "    \"random_forest\": {\n",
    "        \"transformedtargetregressor__regressor__n_estimators\": [100, 200, 400, 500, 600],\n",
    "        \"transformedtargetregressor__regressor__max_features\": [\"sqrt\"],\n",
    "        \"transformedtargetregressor__regressor__max_depth\": [5, 6, 7, None],\n",
    "    },\n",
    "    \"gradient_boosting\": {\n",
    "        \"transformedtargetregressor__regressor__n_estimators\": [100, 200, 400, 500, 600],\n",
    "        \"transformedtargetregressor__regressor__learning_rate\": [.05, .1],\n",
    "        \"transformedtargetregressor__regressor__max_depth\": [5, 6, 7, None]\n",
    "    },\n",
    "    \"xgboost\": {\n",
    "        \"transformedtargetregressor__regressor__n_estimators\": [100, 200, 400, 500, 600],\n",
    "        \"transformedtargetregressor__regressor__learning_rate\": [.05, .1],\n",
    "        \"transformedtargetregressor__regressor__max_depth\": [5, 6, 7, None]\n",
    "    }\n",
    "}"
   ]
  },
  {
   "cell_type": "markdown",
   "metadata": {},
   "source": [
    "## Train Models and Perform HPO"
   ]
  },
  {
   "cell_type": "code",
   "execution_count": 252,
   "metadata": {},
   "outputs": [],
   "source": [
    "from sklearn.model_selection import GridSearchCV"
   ]
  },
  {
   "cell_type": "code",
   "execution_count": 253,
   "metadata": {},
   "outputs": [],
   "source": [
    "fit_models = {}"
   ]
  },
  {
   "cell_type": "code",
   "execution_count": 254,
   "metadata": {},
   "outputs": [
    {
     "name": "stdout",
     "output_type": "stream",
     "text": [
      "Entrenando ridge\n",
      "Entrenando random_forest\n"
     ]
    },
    {
     "name": "stderr",
     "output_type": "stream",
     "text": [
      "/Users/jose/.pyenv/versions/3.13.0/lib/python3.13/site-packages/joblib/externals/loky/process_executor.py:752: UserWarning: A worker stopped while some jobs were given to the executor. This can be caused by a too short worker timeout or by a memory leak.\n",
      "  warnings.warn(\n"
     ]
    },
    {
     "name": "stdout",
     "output_type": "stream",
     "text": [
      "Entrenando gradient_boosting\n"
     ]
    },
    {
     "name": "stderr",
     "output_type": "stream",
     "text": [
      "/Users/jose/.pyenv/versions/3.13.0/lib/python3.13/site-packages/joblib/externals/loky/process_executor.py:752: UserWarning: A worker stopped while some jobs were given to the executor. This can be caused by a too short worker timeout or by a memory leak.\n",
      "  warnings.warn(\n"
     ]
    },
    {
     "name": "stdout",
     "output_type": "stream",
     "text": [
      "Entrenando xgboost\n"
     ]
    }
   ],
   "source": [
    "for algorithm, pipeline in pipelines.items():\n",
    "    try:\n",
    "        print(f\"Entrenando {algorithm}\")\n",
    "        model = GridSearchCV(pipeline, grid[algorithm], cv=10, n_jobs=3, scoring=\"r2\")\n",
    "        model.fit(X_train, y_train)\n",
    "        fit_models[algorithm] = model\n",
    "    except Exception as e:\n",
    "        print(f\"Error al entrenar {algorithm}: {e}\")"
   ]
  },
  {
   "cell_type": "code",
   "execution_count": 256,
   "metadata": {},
   "outputs": [
    {
     "data": {
      "text/plain": [
       "{'ridge': GridSearchCV(cv=10,\n",
       "              estimator=Pipeline(steps=[('preprocessor', Preprocessor()),\n",
       "                                        ('transformedtargetregressor',\n",
       "                                         TransformedTargetRegressor(func=<function y_transform at 0x12d750fe0>,\n",
       "                                                                    inverse_func=<function y_inverse_transform at 0x12d751260>,\n",
       "                                                                    regressor=Ridge()))]),\n",
       "              n_jobs=3,\n",
       "              param_grid={'transformedtargetregressor__regressor__alpha': [0.05,\n",
       "                                                                           0.1,\n",
       "                                                                           0.25,\n",
       "                                                                           0.5,\n",
       "                                                                           1, 5,\n",
       "                                                                           10]},\n",
       "              scoring='r2'),\n",
       " 'random_forest': GridSearchCV(cv=10,\n",
       "              estimator=Pipeline(steps=[('preprocessor', Preprocessor()),\n",
       "                                        ('transformedtargetregressor',\n",
       "                                         TransformedTargetRegressor(func=<function y_transform at 0x12d750fe0>,\n",
       "                                                                    inverse_func=<function y_inverse_transform at 0x12d751260>,\n",
       "                                                                    regressor=RandomForestRegressor()))]),\n",
       "              n_jobs=3,\n",
       "              param_grid={'transformedtargetregressor__regressor__max_depth': [5,\n",
       "                                                                               6,\n",
       "                                                                               7,\n",
       "                                                                               None],\n",
       "                          'transformedtargetregressor__regressor__max_features': ['sqrt'],\n",
       "                          'transformedtargetregressor__regressor__n_estimators': [100,\n",
       "                                                                                  200,\n",
       "                                                                                  400,\n",
       "                                                                                  500,\n",
       "                                                                                  600]},\n",
       "              scoring='r2'),\n",
       " 'gradient_boosting': GridSearchCV(cv=10,\n",
       "              estimator=Pipeline(steps=[('preprocessor', Preprocessor()),\n",
       "                                        ('transformedtargetregressor',\n",
       "                                         TransformedTargetRegressor(func=<function y_transform at 0x12d750fe0>,\n",
       "                                                                    inverse_func=<function y_inverse_transform at 0x12d751260>,\n",
       "                                                                    regressor=GradientBoostingRegressor()))]),\n",
       "              n_jobs=3,\n",
       "              param_grid={'transformedtargetregressor__regressor__learning_rate': [0.05,\n",
       "                                                                                   0.1],\n",
       "                          'transformedtargetregressor__regressor__max_depth': [5,\n",
       "                                                                               6,\n",
       "                                                                               7,\n",
       "                                                                               None],\n",
       "                          'transformedtargetregressor__regressor__n_estimators': [100,\n",
       "                                                                                  200,\n",
       "                                                                                  400,\n",
       "                                                                                  500,\n",
       "                                                                                  600]},\n",
       "              scoring='r2'),\n",
       " 'xgboost': GridSearchCV(cv=10,\n",
       "              estimator=Pipeline(steps=[('preprocessor', Preprocessor()),\n",
       "                                        ('transformedtargetregressor',\n",
       "                                         TransformedTargetRegressor(func=<function y_transform at 0x12d750fe0>,\n",
       "                                                                    inverse_func=<function y_inverse_transform at 0x12d751260>,\n",
       "                                                                    regressor=XGBRegressor(base_score=None,\n",
       "                                                                                           booster=None,\n",
       "                                                                                           callbacks=None,\n",
       "                                                                                           colsample_bylevel=None,\n",
       "                                                                                           colsample_bynode=None,\n",
       "                                                                                           colsampl...\n",
       "                                                                                           monotone_constraints=None,\n",
       "                                                                                           multi_strategy=None,\n",
       "                                                                                           n_estimators=None,\n",
       "                                                                                           n_jobs=None,\n",
       "                                                                                           num_parallel_tree=None,\n",
       "                                                                                           random_state=None, ...)))]),\n",
       "              n_jobs=3,\n",
       "              param_grid={'transformedtargetregressor__regressor__learning_rate': [0.05,\n",
       "                                                                                   0.1],\n",
       "                          'transformedtargetregressor__regressor__max_depth': [5,\n",
       "                                                                               6,\n",
       "                                                                               7,\n",
       "                                                                               None],\n",
       "                          'transformedtargetregressor__regressor__n_estimators': [100,\n",
       "                                                                                  200,\n",
       "                                                                                  400,\n",
       "                                                                                  500,\n",
       "                                                                                  600]},\n",
       "              scoring='r2')}"
      ]
     },
     "execution_count": 256,
     "metadata": {},
     "output_type": "execute_result"
    }
   ],
   "source": [
    "fit_models"
   ]
  },
  {
   "cell_type": "markdown",
   "metadata": {},
   "source": [
    "## Save Models"
   ]
  },
  {
   "cell_type": "code",
   "execution_count": 257,
   "metadata": {},
   "outputs": [],
   "source": [
    "import dill"
   ]
  },
  {
   "cell_type": "code",
   "execution_count": 261,
   "metadata": {},
   "outputs": [
    {
     "name": "stdout",
     "output_type": "stream",
     "text": [
      "Modelo ridge guardado en ./models/ridge_gridsearch.pkl\n",
      "Modelo random_forest guardado en ./models/random_forest_gridsearch.pkl\n",
      "Modelo gradient_boosting guardado en ./models/gradient_boosting_gridsearch.pkl\n",
      "Modelo xgboost guardado en ./models/xgboost_gridsearch.pkl\n"
     ]
    }
   ],
   "source": [
    "for model_name, model_gs in fit_models.items():\n",
    "    filename = f\"./models/{model_name}_gridsearch.pkl\"\n",
    "    with open(filename, \"wb\") as f:\n",
    "        dill.dump(model_gs, f)\n",
    "    print(f\"Modelo {model_name} guardado en {filename}\")"
   ]
  }
 ],
 "metadata": {
  "kernelspec": {
   "display_name": "3.13.0",
   "language": "python",
   "name": "python3"
  },
  "language_info": {
   "codemirror_mode": {
    "name": "ipython",
    "version": 3
   },
   "file_extension": ".py",
   "mimetype": "text/x-python",
   "name": "python",
   "nbconvert_exporter": "python",
   "pygments_lexer": "ipython3",
   "version": "3.13.0"
  }
 },
 "nbformat": 4,
 "nbformat_minor": 2
}
