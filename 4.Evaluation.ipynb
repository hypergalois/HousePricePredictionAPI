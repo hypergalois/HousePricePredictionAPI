{
 "cells": [
  {
   "cell_type": "markdown",
   "metadata": {},
   "source": [
    "José Delgado"
   ]
  },
  {
   "cell_type": "code",
   "execution_count": 1,
   "metadata": {},
   "outputs": [],
   "source": [
    "import dill\n",
    "import os"
   ]
  },
  {
   "cell_type": "code",
   "execution_count": 2,
   "metadata": {},
   "outputs": [],
   "source": [
    "model_files = [\n",
    "    \"ridge_gridsearch.pkl\",\n",
    "    \"random_forest_gridsearch.pkl\",\n",
    "    \"gradient_boosting_gridsearch.pkl\",\n",
    "    \"xgboost_gridsearch.pkl\",\n",
    "]\n",
    "\n",
    "fit_models = {}"
   ]
  },
  {
   "cell_type": "code",
   "execution_count": 3,
   "metadata": {},
   "outputs": [],
   "source": [
    "for file_name in model_files:\n",
    "    model_key = file_name.split(\"_gridsearch.pkl\")[0]  # Ej: \"ridge\", \"random_forest\", etc.\n",
    "    with open(f\"./models/{file_name}\", \"rb\") as f:\n",
    "        fit_models[model_key] = dill.load(f)"
   ]
  },
  {
   "cell_type": "code",
   "execution_count": 4,
   "metadata": {},
   "outputs": [
    {
     "name": "stdout",
     "output_type": "stream",
     "text": [
      "dict_keys(['ridge', 'random_forest', 'gradient_boosting', 'xgboost'])\n"
     ]
    }
   ],
   "source": [
    "print(fit_models.keys())"
   ]
  },
  {
   "cell_type": "markdown",
   "metadata": {},
   "source": [
    "# 6. Evaluate Models"
   ]
  },
  {
   "cell_type": "markdown",
   "metadata": {},
   "source": [
    "## Import Evaluation Metrics"
   ]
  },
  {
   "cell_type": "code",
   "execution_count": 26,
   "metadata": {},
   "outputs": [],
   "source": [
    "from sklearn.metrics import mean_squared_error, mean_absolute_error, r2_score, root_mean_squared_error"
   ]
  },
  {
   "cell_type": "markdown",
   "metadata": {},
   "source": [
    "Ahora leemos de nuevo los datos."
   ]
  },
  {
   "cell_type": "code",
   "execution_count": 5,
   "metadata": {},
   "outputs": [],
   "source": [
    "import pandas as pd\n",
    "from sklearn.model_selection import train_test_split"
   ]
  },
  {
   "cell_type": "code",
   "execution_count": 6,
   "metadata": {},
   "outputs": [],
   "source": [
    "data = pd.read_csv(\"./data/regressiondata.csv\", index_col=\"ID\")"
   ]
  },
  {
   "cell_type": "markdown",
   "metadata": {},
   "source": [
    "Hacemos un debug explícito antes de entrenar, no es elegante pero es lo que hay."
   ]
  },
  {
   "cell_type": "code",
   "execution_count": 7,
   "metadata": {},
   "outputs": [],
   "source": [
    "data = data[data[\"HousePrice\"] != \"??\"]"
   ]
  },
  {
   "cell_type": "code",
   "execution_count": 8,
   "metadata": {},
   "outputs": [],
   "source": [
    "data = data.dropna()"
   ]
  },
  {
   "cell_type": "markdown",
   "metadata": {},
   "source": [
    "## Preprocess Test Set For Predictions"
   ]
  },
  {
   "cell_type": "markdown",
   "metadata": {},
   "source": [
    "Todo lo que sea eliminar filas hay que hacerlo antes del pipeline..."
   ]
  },
  {
   "cell_type": "code",
   "execution_count": 9,
   "metadata": {},
   "outputs": [],
   "source": [
    "# data[data[\"HousePrice\"] > 3000000]\n",
    "# Después de la conversión nos devuelve el ID 8445, con nuestra seed"
   ]
  },
  {
   "cell_type": "code",
   "execution_count": 10,
   "metadata": {},
   "outputs": [],
   "source": [
    "# Eliminar valores extremos\n",
    "data = data[data[\"NumberOfPubs\"] <= 20]\n",
    "# TODO: no me deja eliminar eso porque todavía no lo convertí a float\n",
    "# data = data.drop(data[data[\"HousePrice\"] > 3000000].index)\n",
    "data = data.drop(8445)"
   ]
  },
  {
   "cell_type": "code",
   "execution_count": 11,
   "metadata": {},
   "outputs": [],
   "source": [
    "train, test = train_test_split(data, test_size=.3, random_state=1234)"
   ]
  },
  {
   "cell_type": "code",
   "execution_count": 12,
   "metadata": {},
   "outputs": [],
   "source": [
    "X_train = train.drop(columns=[\"HousePrice\"])\n",
    "y_train = train[\"HousePrice\"]"
   ]
  },
  {
   "cell_type": "markdown",
   "metadata": {},
   "source": [
    "### Create X_test and y_test "
   ]
  },
  {
   "cell_type": "code",
   "execution_count": 13,
   "metadata": {},
   "outputs": [],
   "source": [
    "X_test = test.drop(columns=[\"HousePrice\"])\n",
    "y_test = test[\"HousePrice\"]"
   ]
  },
  {
   "cell_type": "code",
   "execution_count": 14,
   "metadata": {},
   "outputs": [
    {
     "name": "stdout",
     "output_type": "stream",
     "text": [
      "Forma de X_train: (6538, 5)\n",
      "Forma de y_train: (6538,)\n",
      "Forma de X_test: (2803, 5)\n",
      "Forma de y_test: (2803,)\n"
     ]
    }
   ],
   "source": [
    "print(\"Forma de X_train:\", X_train.shape)\n",
    "print(\"Forma de y_train:\", y_train.shape)\n",
    "\n",
    "print(\"Forma de X_test:\", X_test.shape)\n",
    "print(\"Forma de y_test:\", y_test.shape)"
   ]
  },
  {
   "cell_type": "code",
   "execution_count": 22,
   "metadata": {},
   "outputs": [
    {
     "data": {
      "text/html": [
       "<div>\n",
       "<style scoped>\n",
       "    .dataframe tbody tr th:only-of-type {\n",
       "        vertical-align: middle;\n",
       "    }\n",
       "\n",
       "    .dataframe tbody tr th {\n",
       "        vertical-align: top;\n",
       "    }\n",
       "\n",
       "    .dataframe thead th {\n",
       "        text-align: right;\n",
       "    }\n",
       "</style>\n",
       "<table border=\"1\" class=\"dataframe\">\n",
       "  <thead>\n",
       "    <tr style=\"text-align: right;\">\n",
       "      <th></th>\n",
       "      <th>HouseAge</th>\n",
       "      <th>DistanceToStation</th>\n",
       "      <th>NumberOfPubs</th>\n",
       "      <th>TransactionYear</th>\n",
       "      <th>TransactionMonth</th>\n",
       "      <th>PostCode_5212.0</th>\n",
       "      <th>PostCode_5213.0</th>\n",
       "      <th>PostCode_5217.0</th>\n",
       "      <th>PostCode_5222.0</th>\n",
       "      <th>PostCode_5614.0</th>\n",
       "    </tr>\n",
       "    <tr>\n",
       "      <th>ID</th>\n",
       "      <th></th>\n",
       "      <th></th>\n",
       "      <th></th>\n",
       "      <th></th>\n",
       "      <th></th>\n",
       "      <th></th>\n",
       "      <th></th>\n",
       "      <th></th>\n",
       "      <th></th>\n",
       "      <th></th>\n",
       "    </tr>\n",
       "  </thead>\n",
       "  <tbody>\n",
       "    <tr>\n",
       "      <th>2251</th>\n",
       "      <td>-0.745145</td>\n",
       "      <td>-0.814844</td>\n",
       "      <td>0.997532</td>\n",
       "      <td>2019</td>\n",
       "      <td>4</td>\n",
       "      <td>0</td>\n",
       "      <td>0</td>\n",
       "      <td>0</td>\n",
       "      <td>0</td>\n",
       "      <td>0</td>\n",
       "    </tr>\n",
       "    <tr>\n",
       "      <th>7026</th>\n",
       "      <td>1.261652</td>\n",
       "      <td>3.365696</td>\n",
       "      <td>-1.038212</td>\n",
       "      <td>2021</td>\n",
       "      <td>5</td>\n",
       "      <td>0</td>\n",
       "      <td>0</td>\n",
       "      <td>0</td>\n",
       "      <td>0</td>\n",
       "      <td>0</td>\n",
       "    </tr>\n",
       "    <tr>\n",
       "      <th>7116</th>\n",
       "      <td>-1.530414</td>\n",
       "      <td>-0.765643</td>\n",
       "      <td>-1.377503</td>\n",
       "      <td>2019</td>\n",
       "      <td>8</td>\n",
       "      <td>0</td>\n",
       "      <td>0</td>\n",
       "      <td>0</td>\n",
       "      <td>0</td>\n",
       "      <td>0</td>\n",
       "    </tr>\n",
       "    <tr>\n",
       "      <th>9051</th>\n",
       "      <td>-0.396137</td>\n",
       "      <td>-0.688676</td>\n",
       "      <td>-1.038212</td>\n",
       "      <td>2020</td>\n",
       "      <td>11</td>\n",
       "      <td>0</td>\n",
       "      <td>0</td>\n",
       "      <td>0</td>\n",
       "      <td>0</td>\n",
       "      <td>0</td>\n",
       "    </tr>\n",
       "    <tr>\n",
       "      <th>4476</th>\n",
       "      <td>-0.134381</td>\n",
       "      <td>0.071265</td>\n",
       "      <td>-1.377503</td>\n",
       "      <td>2020</td>\n",
       "      <td>9</td>\n",
       "      <td>0</td>\n",
       "      <td>0</td>\n",
       "      <td>0</td>\n",
       "      <td>0</td>\n",
       "      <td>0</td>\n",
       "    </tr>\n",
       "    <tr>\n",
       "      <th>...</th>\n",
       "      <td>...</td>\n",
       "      <td>...</td>\n",
       "      <td>...</td>\n",
       "      <td>...</td>\n",
       "      <td>...</td>\n",
       "      <td>...</td>\n",
       "      <td>...</td>\n",
       "      <td>...</td>\n",
       "      <td>...</td>\n",
       "      <td>...</td>\n",
       "    </tr>\n",
       "    <tr>\n",
       "      <th>6574</th>\n",
       "      <td>-0.221633</td>\n",
       "      <td>-0.022174</td>\n",
       "      <td>-1.038212</td>\n",
       "      <td>2020</td>\n",
       "      <td>1</td>\n",
       "      <td>0</td>\n",
       "      <td>0</td>\n",
       "      <td>0</td>\n",
       "      <td>0</td>\n",
       "      <td>0</td>\n",
       "    </tr>\n",
       "    <tr>\n",
       "      <th>8904</th>\n",
       "      <td>0.912644</td>\n",
       "      <td>-0.163912</td>\n",
       "      <td>0.997532</td>\n",
       "      <td>2021</td>\n",
       "      <td>1</td>\n",
       "      <td>0</td>\n",
       "      <td>0</td>\n",
       "      <td>0</td>\n",
       "      <td>0</td>\n",
       "      <td>0</td>\n",
       "    </tr>\n",
       "    <tr>\n",
       "      <th>1564</th>\n",
       "      <td>-0.134381</td>\n",
       "      <td>-0.545942</td>\n",
       "      <td>-0.020340</td>\n",
       "      <td>2020</td>\n",
       "      <td>4</td>\n",
       "      <td>0</td>\n",
       "      <td>0</td>\n",
       "      <td>0</td>\n",
       "      <td>0</td>\n",
       "      <td>0</td>\n",
       "    </tr>\n",
       "    <tr>\n",
       "      <th>9158</th>\n",
       "      <td>-1.530414</td>\n",
       "      <td>-0.679969</td>\n",
       "      <td>-1.038212</td>\n",
       "      <td>2021</td>\n",
       "      <td>4</td>\n",
       "      <td>0</td>\n",
       "      <td>0</td>\n",
       "      <td>0</td>\n",
       "      <td>0</td>\n",
       "      <td>0</td>\n",
       "    </tr>\n",
       "    <tr>\n",
       "      <th>8552</th>\n",
       "      <td>-1.006901</td>\n",
       "      <td>0.391772</td>\n",
       "      <td>-0.359630</td>\n",
       "      <td>2020</td>\n",
       "      <td>11</td>\n",
       "      <td>0</td>\n",
       "      <td>0</td>\n",
       "      <td>0</td>\n",
       "      <td>0</td>\n",
       "      <td>0</td>\n",
       "    </tr>\n",
       "  </tbody>\n",
       "</table>\n",
       "<p>2803 rows × 10 columns</p>\n",
       "</div>"
      ],
      "text/plain": [
       "      HouseAge  DistanceToStation  NumberOfPubs  TransactionYear  \\\n",
       "ID                                                                 \n",
       "2251 -0.745145          -0.814844      0.997532             2019   \n",
       "7026  1.261652           3.365696     -1.038212             2021   \n",
       "7116 -1.530414          -0.765643     -1.377503             2019   \n",
       "9051 -0.396137          -0.688676     -1.038212             2020   \n",
       "4476 -0.134381           0.071265     -1.377503             2020   \n",
       "...        ...                ...           ...              ...   \n",
       "6574 -0.221633          -0.022174     -1.038212             2020   \n",
       "8904  0.912644          -0.163912      0.997532             2021   \n",
       "1564 -0.134381          -0.545942     -0.020340             2020   \n",
       "9158 -1.530414          -0.679969     -1.038212             2021   \n",
       "8552 -1.006901           0.391772     -0.359630             2020   \n",
       "\n",
       "      TransactionMonth  PostCode_5212.0  PostCode_5213.0  PostCode_5217.0  \\\n",
       "ID                                                                          \n",
       "2251                 4                0                0                0   \n",
       "7026                 5                0                0                0   \n",
       "7116                 8                0                0                0   \n",
       "9051                11                0                0                0   \n",
       "4476                 9                0                0                0   \n",
       "...                ...              ...              ...              ...   \n",
       "6574                 1                0                0                0   \n",
       "8904                 1                0                0                0   \n",
       "1564                 4                0                0                0   \n",
       "9158                 4                0                0                0   \n",
       "8552                11                0                0                0   \n",
       "\n",
       "      PostCode_5222.0  PostCode_5614.0  \n",
       "ID                                      \n",
       "2251                0                0  \n",
       "7026                0                0  \n",
       "7116                0                0  \n",
       "9051                0                0  \n",
       "4476                0                0  \n",
       "...               ...              ...  \n",
       "6574                0                0  \n",
       "8904                0                0  \n",
       "1564                0                0  \n",
       "9158                0                0  \n",
       "8552                0                0  \n",
       "\n",
       "[2803 rows x 10 columns]"
      ]
     },
     "execution_count": 22,
     "metadata": {},
     "output_type": "execute_result"
    }
   ],
   "source": [
    "fit_models[\"ridge\"].best_estimator_[\"preprocessor\"].transform(X_test)"
   ]
  },
  {
   "cell_type": "code",
   "execution_count": 25,
   "metadata": {},
   "outputs": [
    {
     "data": {
      "text/plain": [
       "array([391841.34266832,  98996.85770816, 322399.24990103, ...,\n",
       "       363159.76285118, 409799.39926058, 319028.19681594])"
      ]
     },
     "execution_count": 25,
     "metadata": {},
     "output_type": "execute_result"
    }
   ],
   "source": [
    "fit_models[\"ridge\"].best_estimator_.predict(X_test)"
   ]
  },
  {
   "cell_type": "markdown",
   "metadata": {},
   "source": [
    "## Calculate Regression Metrics"
   ]
  },
  {
   "cell_type": "code",
   "execution_count": 33,
   "metadata": {},
   "outputs": [],
   "source": [
    "def evaluar_modelos(fit_models, X_test, y_test):\n",
    "    \"\"\"\n",
    "    Calcula métricas de regresión para cada modelo en fit_models y\n",
    "    devuelve un diccionario con los resultados.\n",
    "    \"\"\"\n",
    "    tabla_resultados = []\n",
    "\n",
    "    for model_name, gridsearch in fit_models.items():\n",
    "        # El mejor pipeline/estimator para ese modelo\n",
    "        best_estimator = gridsearch.best_estimator_  \n",
    "        \n",
    "        # Predecimos sobre X_test\n",
    "        y_pred = best_estimator.predict(X_test)\n",
    "        \n",
    "        # Calculamos métricas\n",
    "        mse = mean_squared_error(y_test, y_pred)\n",
    "        rmse = root_mean_squared_error(y_test, y_pred)\n",
    "        mae = mean_absolute_error(y_test, y_pred)\n",
    "        r2 = r2_score(y_test, y_pred)\n",
    "        \n",
    "        tabla_resultados.append([model_name, mse, rmse, mae, r2])\n",
    "        \n",
    "        # Convertimos la lista en DataFrame con nombres de columnas\n",
    "        resultados_df = pd.DataFrame(\n",
    "            tabla_resultados,\n",
    "            columns=[\"Modelo\", \"MSE\", \"RMSE\", \"MAE\", \"R²\"]\n",
    "        )\n",
    "    \n",
    "    return resultados_df"
   ]
  },
  {
   "cell_type": "code",
   "execution_count": null,
   "metadata": {},
   "outputs": [
    {
     "data": {
      "text/html": [
       "<div>\n",
       "<style scoped>\n",
       "    .dataframe tbody tr th:only-of-type {\n",
       "        vertical-align: middle;\n",
       "    }\n",
       "\n",
       "    .dataframe tbody tr th {\n",
       "        vertical-align: top;\n",
       "    }\n",
       "\n",
       "    .dataframe thead th {\n",
       "        text-align: right;\n",
       "    }\n",
       "</style>\n",
       "<table border=\"1\" class=\"dataframe\">\n",
       "  <thead>\n",
       "    <tr style=\"text-align: right;\">\n",
       "      <th></th>\n",
       "      <th>Modelo</th>\n",
       "      <th>MSE</th>\n",
       "      <th>RMSE</th>\n",
       "      <th>MAE</th>\n",
       "      <th>R²</th>\n",
       "    </tr>\n",
       "  </thead>\n",
       "  <tbody>\n",
       "    <tr>\n",
       "      <th>0</th>\n",
       "      <td>ridge</td>\n",
       "      <td>1.407209e+10</td>\n",
       "      <td>118625.837249</td>\n",
       "      <td>88873.763926</td>\n",
       "      <td>0.388096</td>\n",
       "    </tr>\n",
       "    <tr>\n",
       "      <th>1</th>\n",
       "      <td>random_forest</td>\n",
       "      <td>1.227431e+10</td>\n",
       "      <td>110789.481315</td>\n",
       "      <td>82532.482838</td>\n",
       "      <td>0.466270</td>\n",
       "    </tr>\n",
       "    <tr>\n",
       "      <th>2</th>\n",
       "      <td>gradient_boosting</td>\n",
       "      <td>1.040782e+10</td>\n",
       "      <td>102018.710824</td>\n",
       "      <td>76171.337137</td>\n",
       "      <td>0.547432</td>\n",
       "    </tr>\n",
       "    <tr>\n",
       "      <th>3</th>\n",
       "      <td>xgboost</td>\n",
       "      <td>1.027334e+10</td>\n",
       "      <td>101357.508083</td>\n",
       "      <td>75987.802246</td>\n",
       "      <td>0.553279</td>\n",
       "    </tr>\n",
       "  </tbody>\n",
       "</table>\n",
       "</div>"
      ],
      "text/plain": [
       "              Modelo           MSE           RMSE           MAE        R²\n",
       "0              ridge  1.407209e+10  118625.837249  88873.763926  0.388096\n",
       "1      random_forest  1.227431e+10  110789.481315  82532.482838  0.466270\n",
       "2  gradient_boosting  1.040782e+10  102018.710824  76171.337137  0.547432\n",
       "3            xgboost  1.027334e+10  101357.508083  75987.802246  0.553279"
      ]
     },
     "execution_count": 34,
     "metadata": {},
     "output_type": "execute_result"
    }
   ],
   "source": [
    "# Retraining models after deleting HousePrice outlier (ID 8445) will improve the results\n",
    "evaluar_modelos(fit_models, X_test, y_test)"
   ]
  },
  {
   "cell_type": "markdown",
   "metadata": {},
   "source": [
    "## Make Predictions"
   ]
  },
  {
   "cell_type": "code",
   "execution_count": 41,
   "metadata": {},
   "outputs": [],
   "source": [
    "best_model = fit_models[\"xgboost\"].best_estimator_"
   ]
  },
  {
   "cell_type": "code",
   "execution_count": 42,
   "metadata": {},
   "outputs": [],
   "source": [
    "y_pred = best_model.predict(X_test)"
   ]
  },
  {
   "cell_type": "code",
   "execution_count": 45,
   "metadata": {},
   "outputs": [],
   "source": [
    "results_df = y_test.to_frame()\n",
    "results_df[\"y_pred\"] = y_pred\n",
    "results_df[\"delta\"] = results_df[\"HousePrice\"].astype(float) - results_df[\"y_pred\"]"
   ]
  },
  {
   "cell_type": "code",
   "execution_count": 46,
   "metadata": {},
   "outputs": [
    {
     "data": {
      "text/html": [
       "<div>\n",
       "<style scoped>\n",
       "    .dataframe tbody tr th:only-of-type {\n",
       "        vertical-align: middle;\n",
       "    }\n",
       "\n",
       "    .dataframe tbody tr th {\n",
       "        vertical-align: top;\n",
       "    }\n",
       "\n",
       "    .dataframe thead th {\n",
       "        text-align: right;\n",
       "    }\n",
       "</style>\n",
       "<table border=\"1\" class=\"dataframe\">\n",
       "  <thead>\n",
       "    <tr style=\"text-align: right;\">\n",
       "      <th></th>\n",
       "      <th>HousePrice</th>\n",
       "      <th>y_pred</th>\n",
       "      <th>delta</th>\n",
       "    </tr>\n",
       "    <tr>\n",
       "      <th>ID</th>\n",
       "      <th></th>\n",
       "      <th></th>\n",
       "      <th></th>\n",
       "    </tr>\n",
       "  </thead>\n",
       "  <tbody>\n",
       "    <tr>\n",
       "      <th>2251</th>\n",
       "      <td>440196</td>\n",
       "      <td>383886.625000</td>\n",
       "      <td>56309.375000</td>\n",
       "    </tr>\n",
       "    <tr>\n",
       "      <th>7026</th>\n",
       "      <td>108901</td>\n",
       "      <td>144929.671875</td>\n",
       "      <td>-36028.671875</td>\n",
       "    </tr>\n",
       "    <tr>\n",
       "      <th>7116</th>\n",
       "      <td>384002</td>\n",
       "      <td>305137.218750</td>\n",
       "      <td>78864.781250</td>\n",
       "    </tr>\n",
       "    <tr>\n",
       "      <th>9051</th>\n",
       "      <td>368054</td>\n",
       "      <td>330863.375000</td>\n",
       "      <td>37190.625000</td>\n",
       "    </tr>\n",
       "    <tr>\n",
       "      <th>4476</th>\n",
       "      <td>219807</td>\n",
       "      <td>246867.218750</td>\n",
       "      <td>-27060.218750</td>\n",
       "    </tr>\n",
       "    <tr>\n",
       "      <th>...</th>\n",
       "      <td>...</td>\n",
       "      <td>...</td>\n",
       "      <td>...</td>\n",
       "    </tr>\n",
       "    <tr>\n",
       "      <th>6574</th>\n",
       "      <td>261452</td>\n",
       "      <td>250106.140625</td>\n",
       "      <td>11345.859375</td>\n",
       "    </tr>\n",
       "    <tr>\n",
       "      <th>8904</th>\n",
       "      <td>226820</td>\n",
       "      <td>333484.906250</td>\n",
       "      <td>-106664.906250</td>\n",
       "    </tr>\n",
       "    <tr>\n",
       "      <th>1564</th>\n",
       "      <td>430694</td>\n",
       "      <td>350515.343750</td>\n",
       "      <td>80178.656250</td>\n",
       "    </tr>\n",
       "    <tr>\n",
       "      <th>9158</th>\n",
       "      <td>373292</td>\n",
       "      <td>471416.125000</td>\n",
       "      <td>-98124.125000</td>\n",
       "    </tr>\n",
       "    <tr>\n",
       "      <th>8552</th>\n",
       "      <td>188560</td>\n",
       "      <td>240926.296875</td>\n",
       "      <td>-52366.296875</td>\n",
       "    </tr>\n",
       "  </tbody>\n",
       "</table>\n",
       "<p>2803 rows × 3 columns</p>\n",
       "</div>"
      ],
      "text/plain": [
       "     HousePrice         y_pred          delta\n",
       "ID                                           \n",
       "2251     440196  383886.625000   56309.375000\n",
       "7026     108901  144929.671875  -36028.671875\n",
       "7116     384002  305137.218750   78864.781250\n",
       "9051     368054  330863.375000   37190.625000\n",
       "4476     219807  246867.218750  -27060.218750\n",
       "...         ...            ...            ...\n",
       "6574     261452  250106.140625   11345.859375\n",
       "8904     226820  333484.906250 -106664.906250\n",
       "1564     430694  350515.343750   80178.656250\n",
       "9158     373292  471416.125000  -98124.125000\n",
       "8552     188560  240926.296875  -52366.296875\n",
       "\n",
       "[2803 rows x 3 columns]"
      ]
     },
     "execution_count": 46,
     "metadata": {},
     "output_type": "execute_result"
    }
   ],
   "source": [
    "results_df"
   ]
  },
  {
   "cell_type": "markdown",
   "metadata": {},
   "source": [
    "## Explain model"
   ]
  },
  {
   "cell_type": "markdown",
   "metadata": {},
   "source": [
    "### Calculate Feature Importance"
   ]
  },
  {
   "cell_type": "markdown",
   "metadata": {},
   "source": [
    "### Calculate Feature Importance for All Models"
   ]
  },
  {
   "cell_type": "markdown",
   "metadata": {},
   "source": [
    "### Plot Trees"
   ]
  },
  {
   "cell_type": "markdown",
   "metadata": {},
   "source": [
    "# 7. Save model"
   ]
  }
 ],
 "metadata": {
  "kernelspec": {
   "display_name": "3.13.0",
   "language": "python",
   "name": "python3"
  },
  "language_info": {
   "codemirror_mode": {
    "name": "ipython",
    "version": 3
   },
   "file_extension": ".py",
   "mimetype": "text/x-python",
   "name": "python",
   "nbconvert_exporter": "python",
   "pygments_lexer": "ipython3",
   "version": "3.13.0"
  }
 },
 "nbformat": 4,
 "nbformat_minor": 2
}
