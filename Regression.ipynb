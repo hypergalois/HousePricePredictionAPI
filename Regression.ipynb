{
 "cells": [
  {
   "cell_type": "markdown",
   "metadata": {},
   "source": [
    "# Building a House Price Predictor API  \n",
    "The client is interested in forecasting houses so the company can look to invest. Rather than using a registered valuer they're looking for something which can be done using the latest technology. Jamie has collected some data on existing house prices over the last few years and has asked to see what you can do. "
   ]
  },
  {
   "cell_type": "markdown",
   "metadata": {
    "tags": []
   },
   "source": [
    "# 1. Import Data"
   ]
  },
  {
   "cell_type": "code",
   "execution_count": 19,
   "metadata": {},
   "outputs": [],
   "source": [
    "import pandas as pd"
   ]
  },
  {
   "cell_type": "code",
   "execution_count": 20,
   "metadata": {},
   "outputs": [
    {
     "data": {
      "text/html": [
       "<div>\n",
       "<style scoped>\n",
       "    .dataframe tbody tr th:only-of-type {\n",
       "        vertical-align: middle;\n",
       "    }\n",
       "\n",
       "    .dataframe tbody tr th {\n",
       "        vertical-align: top;\n",
       "    }\n",
       "\n",
       "    .dataframe thead th {\n",
       "        text-align: right;\n",
       "    }\n",
       "</style>\n",
       "<table border=\"1\" class=\"dataframe\">\n",
       "  <thead>\n",
       "    <tr style=\"text-align: right;\">\n",
       "      <th></th>\n",
       "      <th>TransactionDate</th>\n",
       "      <th>HouseAge</th>\n",
       "      <th>DistanceToStation</th>\n",
       "      <th>NumberOfPubs</th>\n",
       "      <th>PostCode</th>\n",
       "      <th>HousePrice</th>\n",
       "    </tr>\n",
       "    <tr>\n",
       "      <th>ID</th>\n",
       "      <th></th>\n",
       "      <th></th>\n",
       "      <th></th>\n",
       "      <th></th>\n",
       "      <th></th>\n",
       "      <th></th>\n",
       "    </tr>\n",
       "  </thead>\n",
       "  <tbody>\n",
       "    <tr>\n",
       "      <th>0</th>\n",
       "      <td>2020.12</td>\n",
       "      <td>17.0</td>\n",
       "      <td>467.644775</td>\n",
       "      <td>4.0</td>\n",
       "      <td>5222.0</td>\n",
       "      <td>467104</td>\n",
       "    </tr>\n",
       "    <tr>\n",
       "      <th>1</th>\n",
       "      <td>2021.04</td>\n",
       "      <td>36.0</td>\n",
       "      <td>659.924963</td>\n",
       "      <td>3.0</td>\n",
       "      <td>5222.0</td>\n",
       "      <td>547714</td>\n",
       "    </tr>\n",
       "    <tr>\n",
       "      <th>2</th>\n",
       "      <td>2019.04</td>\n",
       "      <td>38.0</td>\n",
       "      <td>305.475941</td>\n",
       "      <td>7.0</td>\n",
       "      <td>5213.0</td>\n",
       "      <td>277232</td>\n",
       "    </tr>\n",
       "    <tr>\n",
       "      <th>3</th>\n",
       "      <td>2021.10</td>\n",
       "      <td>11.0</td>\n",
       "      <td>607.034754</td>\n",
       "      <td>5.0</td>\n",
       "      <td>5213.0</td>\n",
       "      <td>295958</td>\n",
       "    </tr>\n",
       "    <tr>\n",
       "      <th>4</th>\n",
       "      <td>2021.02</td>\n",
       "      <td>14.0</td>\n",
       "      <td>378.827222</td>\n",
       "      <td>5.0</td>\n",
       "      <td>5614.0</td>\n",
       "      <td>439963</td>\n",
       "    </tr>\n",
       "    <tr>\n",
       "      <th>...</th>\n",
       "      <td>...</td>\n",
       "      <td>...</td>\n",
       "      <td>...</td>\n",
       "      <td>...</td>\n",
       "      <td>...</td>\n",
       "      <td>...</td>\n",
       "    </tr>\n",
       "    <tr>\n",
       "      <th>9351</th>\n",
       "      <td>2019.07</td>\n",
       "      <td>36.0</td>\n",
       "      <td>554.324820</td>\n",
       "      <td>3.0</td>\n",
       "      <td>5217.0</td>\n",
       "      <td>420246</td>\n",
       "    </tr>\n",
       "    <tr>\n",
       "      <th>9352</th>\n",
       "      <td>2021.02</td>\n",
       "      <td>21.0</td>\n",
       "      <td>2296.349397</td>\n",
       "      <td>4.0</td>\n",
       "      <td>5614.0</td>\n",
       "      <td>256087</td>\n",
       "    </tr>\n",
       "    <tr>\n",
       "      <th>9353</th>\n",
       "      <td>2020.11</td>\n",
       "      <td>18.0</td>\n",
       "      <td>856.174897</td>\n",
       "      <td>0.0</td>\n",
       "      <td>5614.0</td>\n",
       "      <td>257663</td>\n",
       "    </tr>\n",
       "    <tr>\n",
       "      <th>9354</th>\n",
       "      <td>2021.10</td>\n",
       "      <td>6.0</td>\n",
       "      <td>87.260667</td>\n",
       "      <td>9.0</td>\n",
       "      <td>5614.0</td>\n",
       "      <td>681072</td>\n",
       "    </tr>\n",
       "    <tr>\n",
       "      <th>9355</th>\n",
       "      <td>2020.12</td>\n",
       "      <td>20.0</td>\n",
       "      <td>584.007146</td>\n",
       "      <td>4.0</td>\n",
       "      <td>5614.0</td>\n",
       "      <td>403096</td>\n",
       "    </tr>\n",
       "  </tbody>\n",
       "</table>\n",
       "<p>9356 rows × 6 columns</p>\n",
       "</div>"
      ],
      "text/plain": [
       "      TransactionDate  HouseAge  DistanceToStation  NumberOfPubs  PostCode  \\\n",
       "ID                                                                           \n",
       "0             2020.12      17.0         467.644775           4.0    5222.0   \n",
       "1             2021.04      36.0         659.924963           3.0    5222.0   \n",
       "2             2019.04      38.0         305.475941           7.0    5213.0   \n",
       "3             2021.10      11.0         607.034754           5.0    5213.0   \n",
       "4             2021.02      14.0         378.827222           5.0    5614.0   \n",
       "...               ...       ...                ...           ...       ...   \n",
       "9351          2019.07      36.0         554.324820           3.0    5217.0   \n",
       "9352          2021.02      21.0        2296.349397           4.0    5614.0   \n",
       "9353          2020.11      18.0         856.174897           0.0    5614.0   \n",
       "9354          2021.10       6.0          87.260667           9.0    5614.0   \n",
       "9355          2020.12      20.0         584.007146           4.0    5614.0   \n",
       "\n",
       "     HousePrice  \n",
       "ID               \n",
       "0        467104  \n",
       "1        547714  \n",
       "2        277232  \n",
       "3        295958  \n",
       "4        439963  \n",
       "...         ...  \n",
       "9351     420246  \n",
       "9352     256087  \n",
       "9353     257663  \n",
       "9354     681072  \n",
       "9355     403096  \n",
       "\n",
       "[9356 rows x 6 columns]"
      ]
     },
     "execution_count": 20,
     "metadata": {},
     "output_type": "execute_result"
    }
   ],
   "source": [
    "data = pd.read_csv(\"./data/regressiondata.csv\", index_col=\"ID\")\n",
    "data"
   ]
  },
  {
   "cell_type": "code",
   "execution_count": 21,
   "metadata": {},
   "outputs": [
    {
     "data": {
      "text/html": [
       "<div>\n",
       "<style scoped>\n",
       "    .dataframe tbody tr th:only-of-type {\n",
       "        vertical-align: middle;\n",
       "    }\n",
       "\n",
       "    .dataframe tbody tr th {\n",
       "        vertical-align: top;\n",
       "    }\n",
       "\n",
       "    .dataframe thead th {\n",
       "        text-align: right;\n",
       "    }\n",
       "</style>\n",
       "<table border=\"1\" class=\"dataframe\">\n",
       "  <thead>\n",
       "    <tr style=\"text-align: right;\">\n",
       "      <th></th>\n",
       "      <th>NumberOfPubs</th>\n",
       "      <th>PostCode</th>\n",
       "      <th>HousePrice</th>\n",
       "    </tr>\n",
       "    <tr>\n",
       "      <th>ID</th>\n",
       "      <th></th>\n",
       "      <th></th>\n",
       "      <th></th>\n",
       "    </tr>\n",
       "  </thead>\n",
       "  <tbody>\n",
       "    <tr>\n",
       "      <th>0</th>\n",
       "      <td>4.0</td>\n",
       "      <td>5222.0</td>\n",
       "      <td>467104</td>\n",
       "    </tr>\n",
       "    <tr>\n",
       "      <th>1</th>\n",
       "      <td>3.0</td>\n",
       "      <td>5222.0</td>\n",
       "      <td>547714</td>\n",
       "    </tr>\n",
       "    <tr>\n",
       "      <th>2</th>\n",
       "      <td>7.0</td>\n",
       "      <td>5213.0</td>\n",
       "      <td>277232</td>\n",
       "    </tr>\n",
       "    <tr>\n",
       "      <th>3</th>\n",
       "      <td>5.0</td>\n",
       "      <td>5213.0</td>\n",
       "      <td>295958</td>\n",
       "    </tr>\n",
       "    <tr>\n",
       "      <th>4</th>\n",
       "      <td>5.0</td>\n",
       "      <td>5614.0</td>\n",
       "      <td>439963</td>\n",
       "    </tr>\n",
       "  </tbody>\n",
       "</table>\n",
       "</div>"
      ],
      "text/plain": [
       "    NumberOfPubs  PostCode HousePrice\n",
       "ID                                   \n",
       "0            4.0    5222.0     467104\n",
       "1            3.0    5222.0     547714\n",
       "2            7.0    5213.0     277232\n",
       "3            5.0    5213.0     295958\n",
       "4            5.0    5614.0     439963"
      ]
     },
     "execution_count": 21,
     "metadata": {},
     "output_type": "execute_result"
    }
   ],
   "source": [
    "data.iloc[0:5, 3:6]"
   ]
  },
  {
   "cell_type": "code",
   "execution_count": 22,
   "metadata": {},
   "outputs": [
    {
     "data": {
      "text/plain": [
       "TransactionDate         2020.12\n",
       "HouseAge                   20.0\n",
       "DistanceToStation    584.007146\n",
       "NumberOfPubs                4.0\n",
       "PostCode                 5614.0\n",
       "HousePrice               403096\n",
       "Name: 9355, dtype: object"
      ]
     },
     "execution_count": 22,
     "metadata": {},
     "output_type": "execute_result"
    }
   ],
   "source": [
    "data.iloc[9355]"
   ]
  },
  {
   "cell_type": "markdown",
   "metadata": {
    "tags": []
   },
   "source": [
    "# 2. Split Data to Prevent Snooping Bias"
   ]
  },
  {
   "cell_type": "code",
   "execution_count": 23,
   "metadata": {},
   "outputs": [],
   "source": [
    "from sklearn.model_selection import train_test_split"
   ]
  },
  {
   "cell_type": "code",
   "execution_count": 24,
   "metadata": {},
   "outputs": [],
   "source": [
    "train, test = train_test_split(data, test_size=.3, random_state=1234)"
   ]
  },
  {
   "cell_type": "code",
   "execution_count": 25,
   "metadata": {},
   "outputs": [
    {
     "data": {
      "text/plain": [
       "pandas.core.frame.DataFrame"
      ]
     },
     "execution_count": 25,
     "metadata": {},
     "output_type": "execute_result"
    }
   ],
   "source": [
    "type(train)"
   ]
  },
  {
   "cell_type": "code",
   "execution_count": 26,
   "metadata": {},
   "outputs": [
    {
     "name": "stdout",
     "output_type": "stream",
     "text": [
      "Train dimensions: (6549, 6)\n",
      "Test dimensions: (2807, 6)\n"
     ]
    }
   ],
   "source": [
    "print(f\"Train dimensions: {train.shape}\")\n",
    "print(f\"Test dimensions: {test.shape}\")"
   ]
  },
  {
   "cell_type": "markdown",
   "metadata": {
    "jp-MarkdownHeadingCollapsed": true,
    "tags": []
   },
   "source": [
    "# 3. Exploratory Data Analysis"
   ]
  },
  {
   "cell_type": "markdown",
   "metadata": {
    "tags": []
   },
   "source": [
    "## Bird's Eye View"
   ]
  },
  {
   "cell_type": "code",
   "execution_count": 27,
   "metadata": {},
   "outputs": [
    {
     "data": {
      "text/plain": [
       "{'TransactionDate': 2021.02,\n",
       " 'HouseAge': 34.0,\n",
       " 'DistanceToStation': 460.9943648,\n",
       " 'NumberOfPubs': 8.0,\n",
       " 'PostCode': 5614.0,\n",
       " 'HousePrice': '460286'}"
      ]
     },
     "execution_count": 27,
     "metadata": {},
     "output_type": "execute_result"
    }
   ],
   "source": [
    "train.iloc[0].to_dict()"
   ]
  },
  {
   "cell_type": "code",
   "execution_count": 28,
   "metadata": {},
   "outputs": [
    {
     "data": {
      "text/plain": [
       "np.float64(34.0)"
      ]
     },
     "execution_count": 28,
     "metadata": {},
     "output_type": "execute_result"
    }
   ],
   "source": [
    "train.iloc[0].HouseAge"
   ]
  },
  {
   "cell_type": "code",
   "execution_count": 29,
   "metadata": {},
   "outputs": [
    {
     "data": {
      "text/plain": [
       "'460286'"
      ]
     },
     "execution_count": 29,
     "metadata": {},
     "output_type": "execute_result"
    }
   ],
   "source": [
    "train.iloc[0].HousePrice"
   ]
  },
  {
   "cell_type": "code",
   "execution_count": 30,
   "metadata": {},
   "outputs": [
    {
     "data": {
      "text/plain": [
       "TransactionDate      float64\n",
       "HouseAge             float64\n",
       "DistanceToStation    float64\n",
       "NumberOfPubs         float64\n",
       "PostCode             float64\n",
       "HousePrice            object\n",
       "dtype: object"
      ]
     },
     "execution_count": 30,
     "metadata": {},
     "output_type": "execute_result"
    }
   ],
   "source": [
    "train.dtypes"
   ]
  },
  {
   "cell_type": "code",
   "execution_count": 31,
   "metadata": {},
   "outputs": [
    {
     "name": "stdout",
     "output_type": "stream",
     "text": [
      "<class 'pandas.core.frame.DataFrame'>\n",
      "Index: 6549 entries, 8450 to 8915\n",
      "Data columns (total 6 columns):\n",
      " #   Column             Non-Null Count  Dtype  \n",
      "---  ------             --------------  -----  \n",
      " 0   TransactionDate    6548 non-null   float64\n",
      " 1   HouseAge           6546 non-null   float64\n",
      " 2   DistanceToStation  6547 non-null   float64\n",
      " 3   NumberOfPubs       6547 non-null   float64\n",
      " 4   PostCode           6547 non-null   float64\n",
      " 5   HousePrice         6544 non-null   object \n",
      "dtypes: float64(5), object(1)\n",
      "memory usage: 358.1+ KB\n"
     ]
    }
   ],
   "source": [
    "train.info()"
   ]
  },
  {
   "cell_type": "code",
   "execution_count": 32,
   "metadata": {},
   "outputs": [
    {
     "data": {
      "text/html": [
       "<div>\n",
       "<style scoped>\n",
       "    .dataframe tbody tr th:only-of-type {\n",
       "        vertical-align: middle;\n",
       "    }\n",
       "\n",
       "    .dataframe tbody tr th {\n",
       "        vertical-align: top;\n",
       "    }\n",
       "\n",
       "    .dataframe thead th {\n",
       "        text-align: right;\n",
       "    }\n",
       "</style>\n",
       "<table border=\"1\" class=\"dataframe\">\n",
       "  <thead>\n",
       "    <tr style=\"text-align: right;\">\n",
       "      <th></th>\n",
       "      <th>TransactionDate</th>\n",
       "      <th>HouseAge</th>\n",
       "      <th>DistanceToStation</th>\n",
       "      <th>NumberOfPubs</th>\n",
       "      <th>PostCode</th>\n",
       "    </tr>\n",
       "  </thead>\n",
       "  <tbody>\n",
       "    <tr>\n",
       "      <th>count</th>\n",
       "      <td>6548.000000</td>\n",
       "      <td>6546.000000</td>\n",
       "      <td>6547.000000</td>\n",
       "      <td>6.547000e+03</td>\n",
       "      <td>6547.000000</td>\n",
       "    </tr>\n",
       "    <tr>\n",
       "      <th>mean</th>\n",
       "      <td>2020.072389</td>\n",
       "      <td>17.375344</td>\n",
       "      <td>1091.759504</td>\n",
       "      <td>7.677828e+02</td>\n",
       "      <td>5294.499160</td>\n",
       "    </tr>\n",
       "    <tr>\n",
       "      <th>std</th>\n",
       "      <td>0.815922</td>\n",
       "      <td>11.469272</td>\n",
       "      <td>1270.038426</td>\n",
       "      <td>6.179430e+04</td>\n",
       "      <td>158.397718</td>\n",
       "    </tr>\n",
       "    <tr>\n",
       "      <th>min</th>\n",
       "      <td>2019.010000</td>\n",
       "      <td>0.000000</td>\n",
       "      <td>23.829424</td>\n",
       "      <td>0.000000e+00</td>\n",
       "      <td>5212.000000</td>\n",
       "    </tr>\n",
       "    <tr>\n",
       "      <th>25%</th>\n",
       "      <td>2019.100000</td>\n",
       "      <td>9.000000</td>\n",
       "      <td>268.649033</td>\n",
       "      <td>1.000000e+00</td>\n",
       "      <td>5213.000000</td>\n",
       "    </tr>\n",
       "    <tr>\n",
       "      <th>50%</th>\n",
       "      <td>2020.070000</td>\n",
       "      <td>15.000000</td>\n",
       "      <td>545.312168</td>\n",
       "      <td>4.000000e+00</td>\n",
       "      <td>5217.000000</td>\n",
       "    </tr>\n",
       "    <tr>\n",
       "      <th>75%</th>\n",
       "      <td>2021.040000</td>\n",
       "      <td>28.000000</td>\n",
       "      <td>1529.343484</td>\n",
       "      <td>6.000000e+00</td>\n",
       "      <td>5222.000000</td>\n",
       "    </tr>\n",
       "    <tr>\n",
       "      <th>max</th>\n",
       "      <td>2021.120000</td>\n",
       "      <td>43.000000</td>\n",
       "      <td>6486.256457</td>\n",
       "      <td>4.999999e+06</td>\n",
       "      <td>5614.000000</td>\n",
       "    </tr>\n",
       "  </tbody>\n",
       "</table>\n",
       "</div>"
      ],
      "text/plain": [
       "       TransactionDate     HouseAge  DistanceToStation  NumberOfPubs  \\\n",
       "count      6548.000000  6546.000000        6547.000000  6.547000e+03   \n",
       "mean       2020.072389    17.375344        1091.759504  7.677828e+02   \n",
       "std           0.815922    11.469272        1270.038426  6.179430e+04   \n",
       "min        2019.010000     0.000000          23.829424  0.000000e+00   \n",
       "25%        2019.100000     9.000000         268.649033  1.000000e+00   \n",
       "50%        2020.070000    15.000000         545.312168  4.000000e+00   \n",
       "75%        2021.040000    28.000000        1529.343484  6.000000e+00   \n",
       "max        2021.120000    43.000000        6486.256457  4.999999e+06   \n",
       "\n",
       "          PostCode  \n",
       "count  6547.000000  \n",
       "mean   5294.499160  \n",
       "std     158.397718  \n",
       "min    5212.000000  \n",
       "25%    5213.000000  \n",
       "50%    5217.000000  \n",
       "75%    5222.000000  \n",
       "max    5614.000000  "
      ]
     },
     "execution_count": 32,
     "metadata": {},
     "output_type": "execute_result"
    }
   ],
   "source": [
    "train.describe()"
   ]
  },
  {
   "cell_type": "code",
   "execution_count": 33,
   "metadata": {},
   "outputs": [],
   "source": [
    "train[\"PostCode\"] = train[\"PostCode\"].astype(\"str\")\n",
    "train[\"TransactionDate\"] = train[\"TransactionDate\"].astype(\"str\")"
   ]
  },
  {
   "cell_type": "code",
   "execution_count": 35,
   "metadata": {},
   "outputs": [
    {
     "data": {
      "text/html": [
       "<div>\n",
       "<style scoped>\n",
       "    .dataframe tbody tr th:only-of-type {\n",
       "        vertical-align: middle;\n",
       "    }\n",
       "\n",
       "    .dataframe tbody tr th {\n",
       "        vertical-align: top;\n",
       "    }\n",
       "\n",
       "    .dataframe thead th {\n",
       "        text-align: right;\n",
       "    }\n",
       "</style>\n",
       "<table border=\"1\" class=\"dataframe\">\n",
       "  <thead>\n",
       "    <tr style=\"text-align: right;\">\n",
       "      <th></th>\n",
       "      <th>TransactionDate</th>\n",
       "      <th>PostCode</th>\n",
       "      <th>HousePrice</th>\n",
       "    </tr>\n",
       "  </thead>\n",
       "  <tbody>\n",
       "    <tr>\n",
       "      <th>count</th>\n",
       "      <td>6549</td>\n",
       "      <td>6549</td>\n",
       "      <td>6544</td>\n",
       "    </tr>\n",
       "    <tr>\n",
       "      <th>unique</th>\n",
       "      <td>37</td>\n",
       "      <td>6</td>\n",
       "      <td>6496</td>\n",
       "    </tr>\n",
       "    <tr>\n",
       "      <th>top</th>\n",
       "      <td>2019.01</td>\n",
       "      <td>5212.0</td>\n",
       "      <td>290262</td>\n",
       "    </tr>\n",
       "    <tr>\n",
       "      <th>freq</th>\n",
       "      <td>212</td>\n",
       "      <td>1338</td>\n",
       "      <td>2</td>\n",
       "    </tr>\n",
       "  </tbody>\n",
       "</table>\n",
       "</div>"
      ],
      "text/plain": [
       "       TransactionDate PostCode HousePrice\n",
       "count             6549     6549       6544\n",
       "unique              37        6       6496\n",
       "top            2019.01   5212.0     290262\n",
       "freq               212     1338          2"
      ]
     },
     "execution_count": 35,
     "metadata": {},
     "output_type": "execute_result"
    }
   ],
   "source": [
    "train.describe(include=\"object\")"
   ]
  },
  {
   "cell_type": "markdown",
   "metadata": {
    "tags": []
   },
   "source": [
    "## Analyse Numerical Attributes"
   ]
  },
  {
   "cell_type": "code",
   "execution_count": 36,
   "metadata": {},
   "outputs": [],
   "source": [
    "import matplotlib.pyplot as plt\n",
    "import seaborn as sns"
   ]
  },
  {
   "cell_type": "markdown",
   "metadata": {
    "tags": []
   },
   "source": [
    "### Plot Distributions"
   ]
  },
  {
   "cell_type": "code",
   "execution_count": null,
   "metadata": {},
   "outputs": [
    {
     "data": {
      "image/png": "[encoded data removed]",
      "text/plain": [
       "<Figure size 2000x1500 with 4 Axes>"
      ]
     },
     "metadata": {},
     "output_type": "display_data"
    }
   ],
   "source": [
    "train.hist(bins=50, figsize=(20, 15))\n",
    "plt.show()"
   ]
  },
  {
   "cell_type": "markdown",
   "metadata": {
    "tags": []
   },
   "source": [
    "### Why isn't House Price Showing up as Numeric?"
   ]
  },
  {
   "cell_type": "code",
   "execution_count": 40,
   "metadata": {},
   "outputs": [],
   "source": [
    "# Error: ValueError: could not convert string to float: '??'\n",
    "# train[\"HousePrice\"] = train[\"HousePrice\"].astype(\"float\")"
   ]
  },
  {
   "cell_type": "code",
   "execution_count": 43,
   "metadata": {},
   "outputs": [
    {
     "data": {
      "text/html": [
       "<div>\n",
       "<style scoped>\n",
       "    .dataframe tbody tr th:only-of-type {\n",
       "        vertical-align: middle;\n",
       "    }\n",
       "\n",
       "    .dataframe tbody tr th {\n",
       "        vertical-align: top;\n",
       "    }\n",
       "\n",
       "    .dataframe thead th {\n",
       "        text-align: right;\n",
       "    }\n",
       "</style>\n",
       "<table border=\"1\" class=\"dataframe\">\n",
       "  <thead>\n",
       "    <tr style=\"text-align: right;\">\n",
       "      <th></th>\n",
       "      <th>TransactionDate</th>\n",
       "      <th>HouseAge</th>\n",
       "      <th>DistanceToStation</th>\n",
       "      <th>NumberOfPubs</th>\n",
       "      <th>PostCode</th>\n",
       "      <th>HousePrice</th>\n",
       "    </tr>\n",
       "    <tr>\n",
       "      <th>ID</th>\n",
       "      <th></th>\n",
       "      <th></th>\n",
       "      <th></th>\n",
       "      <th></th>\n",
       "      <th></th>\n",
       "      <th></th>\n",
       "    </tr>\n",
       "  </thead>\n",
       "  <tbody>\n",
       "    <tr>\n",
       "      <th>8718</th>\n",
       "      <td>2020.08</td>\n",
       "      <td>16.0</td>\n",
       "      <td>122.432508</td>\n",
       "      <td>5.0</td>\n",
       "      <td>5213.0</td>\n",
       "      <td>??</td>\n",
       "    </tr>\n",
       "  </tbody>\n",
       "</table>\n",
       "</div>"
      ],
      "text/plain": [
       "     TransactionDate  HouseAge  DistanceToStation  NumberOfPubs PostCode  \\\n",
       "ID                                                                         \n",
       "8718         2020.08      16.0         122.432508           5.0   5213.0   \n",
       "\n",
       "     HousePrice  \n",
       "ID               \n",
       "8718         ??  "
      ]
     },
     "execution_count": 43,
     "metadata": {},
     "output_type": "execute_result"
    }
   ],
   "source": [
    "train[train[\"HousePrice\"] == \"??\"]"
   ]
  },
  {
   "cell_type": "code",
   "execution_count": 45,
   "metadata": {},
   "outputs": [],
   "source": [
    "train = train[train[\"HousePrice\"] != \"??\"]"
   ]
  },
  {
   "cell_type": "code",
   "execution_count": 46,
   "metadata": {},
   "outputs": [
    {
     "data": {
      "text/html": [
       "<div>\n",
       "<style scoped>\n",
       "    .dataframe tbody tr th:only-of-type {\n",
       "        vertical-align: middle;\n",
       "    }\n",
       "\n",
       "    .dataframe tbody tr th {\n",
       "        vertical-align: top;\n",
       "    }\n",
       "\n",
       "    .dataframe thead th {\n",
       "        text-align: right;\n",
       "    }\n",
       "</style>\n",
       "<table border=\"1\" class=\"dataframe\">\n",
       "  <thead>\n",
       "    <tr style=\"text-align: right;\">\n",
       "      <th></th>\n",
       "      <th>TransactionDate</th>\n",
       "      <th>HouseAge</th>\n",
       "      <th>DistanceToStation</th>\n",
       "      <th>NumberOfPubs</th>\n",
       "      <th>PostCode</th>\n",
       "      <th>HousePrice</th>\n",
       "    </tr>\n",
       "    <tr>\n",
       "      <th>ID</th>\n",
       "      <th></th>\n",
       "      <th></th>\n",
       "      <th></th>\n",
       "      <th></th>\n",
       "      <th></th>\n",
       "      <th></th>\n",
       "    </tr>\n",
       "  </thead>\n",
       "  <tbody>\n",
       "  </tbody>\n",
       "</table>\n",
       "</div>"
      ],
      "text/plain": [
       "Empty DataFrame\n",
       "Columns: [TransactionDate, HouseAge, DistanceToStation, NumberOfPubs, PostCode, HousePrice]\n",
       "Index: []"
      ]
     },
     "execution_count": 46,
     "metadata": {},
     "output_type": "execute_result"
    }
   ],
   "source": [
    "train[train[\"HousePrice\"] == \"??\"]"
   ]
  },
  {
   "cell_type": "code",
   "execution_count": 47,
   "metadata": {},
   "outputs": [],
   "source": [
    "train[\"HousePrice\"] = train[\"HousePrice\"].astype(\"float\")"
   ]
  },
  {
   "cell_type": "code",
   "execution_count": 48,
   "metadata": {},
   "outputs": [
    {
     "data": {
      "text/plain": [
       "TransactionDate       object\n",
       "HouseAge             float64\n",
       "DistanceToStation    float64\n",
       "NumberOfPubs         float64\n",
       "PostCode              object\n",
       "HousePrice           float64\n",
       "dtype: object"
      ]
     },
     "execution_count": 48,
     "metadata": {},
     "output_type": "execute_result"
    }
   ],
   "source": [
    "train.dtypes"
   ]
  },
  {
   "cell_type": "code",
   "execution_count": 50,
   "metadata": {},
   "outputs": [
    {
     "data": {
      "image/png": "[encoded data removed]",
      "text/plain": [
       "<Figure size 2000x1500 with 4 Axes>"
      ]
     },
     "metadata": {},
     "output_type": "display_data"
    }
   ],
   "source": [
    "train.hist(bins=50, figsize=(20, 15))\n",
    "plt.show()"
   ]
  },
  {
   "cell_type": "code",
   "execution_count": 54,
   "metadata": {},
   "outputs": [
    {
     "data": {
      "text/plain": [
       "<Axes: xlabel='HousePrice'>"
      ]
     },
     "execution_count": 54,
     "metadata": {},
     "output_type": "execute_result"
    },
    {
     "data": {
      "image/png": "[encoded data removed]",
      "text/plain": [
       "<Figure size 640x480 with 1 Axes>"
      ]
     },
     "metadata": {},
     "output_type": "display_data"
    }
   ],
   "source": [
    "sns.boxplot(x=\"HousePrice\", data=train)"
   ]
  },
  {
   "cell_type": "markdown",
   "metadata": {
    "tags": []
   },
   "source": [
    "### Drop Outlier "
   ]
  },
  {
   "cell_type": "code",
   "execution_count": 59,
   "metadata": {},
   "outputs": [
    {
     "data": {
      "text/html": [
       "<div>\n",
       "<style scoped>\n",
       "    .dataframe tbody tr th:only-of-type {\n",
       "        vertical-align: middle;\n",
       "    }\n",
       "\n",
       "    .dataframe tbody tr th {\n",
       "        vertical-align: top;\n",
       "    }\n",
       "\n",
       "    .dataframe thead th {\n",
       "        text-align: right;\n",
       "    }\n",
       "</style>\n",
       "<table border=\"1\" class=\"dataframe\">\n",
       "  <thead>\n",
       "    <tr style=\"text-align: right;\">\n",
       "      <th></th>\n",
       "      <th>TransactionDate</th>\n",
       "      <th>HouseAge</th>\n",
       "      <th>DistanceToStation</th>\n",
       "      <th>NumberOfPubs</th>\n",
       "      <th>PostCode</th>\n",
       "      <th>HousePrice</th>\n",
       "    </tr>\n",
       "    <tr>\n",
       "      <th>ID</th>\n",
       "      <th></th>\n",
       "      <th></th>\n",
       "      <th></th>\n",
       "      <th></th>\n",
       "      <th></th>\n",
       "      <th></th>\n",
       "    </tr>\n",
       "  </thead>\n",
       "  <tbody>\n",
       "    <tr>\n",
       "      <th>8445</th>\n",
       "      <td>2021.05</td>\n",
       "      <td>0.0</td>\n",
       "      <td>276.789752</td>\n",
       "      <td>9.0</td>\n",
       "      <td>5222.0</td>\n",
       "      <td>8989772.0</td>\n",
       "    </tr>\n",
       "    <tr>\n",
       "      <th>2749</th>\n",
       "      <td>2021.06</td>\n",
       "      <td>9.0</td>\n",
       "      <td>38.864337</td>\n",
       "      <td>1.0</td>\n",
       "      <td>5222.0</td>\n",
       "      <td>1504501.0</td>\n",
       "    </tr>\n",
       "    <tr>\n",
       "      <th>6066</th>\n",
       "      <td>2020.12</td>\n",
       "      <td>10.0</td>\n",
       "      <td>234.680008</td>\n",
       "      <td>1.0</td>\n",
       "      <td>5222.0</td>\n",
       "      <td>1374386.0</td>\n",
       "    </tr>\n",
       "    <tr>\n",
       "      <th>149</th>\n",
       "      <td>2020.09</td>\n",
       "      <td>9.0</td>\n",
       "      <td>228.930655</td>\n",
       "      <td>1.0</td>\n",
       "      <td>5222.0</td>\n",
       "      <td>1374277.0</td>\n",
       "    </tr>\n",
       "    <tr>\n",
       "      <th>9238</th>\n",
       "      <td>2019.11</td>\n",
       "      <td>10.0</td>\n",
       "      <td>169.424413</td>\n",
       "      <td>1.0</td>\n",
       "      <td>5222.0</td>\n",
       "      <td>1205920.0</td>\n",
       "    </tr>\n",
       "  </tbody>\n",
       "</table>\n",
       "</div>"
      ],
      "text/plain": [
       "     TransactionDate  HouseAge  DistanceToStation  NumberOfPubs PostCode  \\\n",
       "ID                                                                         \n",
       "8445         2021.05       0.0         276.789752           9.0   5222.0   \n",
       "2749         2021.06       9.0          38.864337           1.0   5222.0   \n",
       "6066         2020.12      10.0         234.680008           1.0   5222.0   \n",
       "149          2020.09       9.0         228.930655           1.0   5222.0   \n",
       "9238         2019.11      10.0         169.424413           1.0   5222.0   \n",
       "\n",
       "      HousePrice  \n",
       "ID                \n",
       "8445   8989772.0  \n",
       "2749   1504501.0  \n",
       "6066   1374386.0  \n",
       "149    1374277.0  \n",
       "9238   1205920.0  "
      ]
     },
     "execution_count": 59,
     "metadata": {},
     "output_type": "execute_result"
    }
   ],
   "source": [
    "train.sort_values(\"HousePrice\", ascending=False).head()"
   ]
  },
  {
   "cell_type": "code",
   "execution_count": 63,
   "metadata": {},
   "outputs": [],
   "source": [
    "train = train.drop(train[train[\"HousePrice\"] > 3000000].index)\n",
    "# train = train.drop(8445)"
   ]
  },
  {
   "cell_type": "markdown",
   "metadata": {
    "tags": []
   },
   "source": [
    "### What's happening with pubs"
   ]
  },
  {
   "cell_type": "code",
   "execution_count": 62,
   "metadata": {},
   "outputs": [
    {
     "data": {
      "text/html": [
       "<div>\n",
       "<style scoped>\n",
       "    .dataframe tbody tr th:only-of-type {\n",
       "        vertical-align: middle;\n",
       "    }\n",
       "\n",
       "    .dataframe tbody tr th {\n",
       "        vertical-align: top;\n",
       "    }\n",
       "\n",
       "    .dataframe thead th {\n",
       "        text-align: right;\n",
       "    }\n",
       "</style>\n",
       "<table border=\"1\" class=\"dataframe\">\n",
       "  <thead>\n",
       "    <tr style=\"text-align: right;\">\n",
       "      <th></th>\n",
       "      <th>TransactionDate</th>\n",
       "      <th>HouseAge</th>\n",
       "      <th>DistanceToStation</th>\n",
       "      <th>NumberOfPubs</th>\n",
       "      <th>PostCode</th>\n",
       "      <th>HousePrice</th>\n",
       "    </tr>\n",
       "    <tr>\n",
       "      <th>ID</th>\n",
       "      <th></th>\n",
       "      <th></th>\n",
       "      <th></th>\n",
       "      <th></th>\n",
       "      <th></th>\n",
       "      <th></th>\n",
       "    </tr>\n",
       "  </thead>\n",
       "  <tbody>\n",
       "    <tr>\n",
       "      <th>13</th>\n",
       "      <td>2019.05</td>\n",
       "      <td>8.0</td>\n",
       "      <td>273.264542</td>\n",
       "      <td>4999999.0</td>\n",
       "      <td>5213.0</td>\n",
       "      <td>356012.0</td>\n",
       "    </tr>\n",
       "    <tr>\n",
       "      <th>6662</th>\n",
       "      <td>2021.07</td>\n",
       "      <td>34.0</td>\n",
       "      <td>243.192562</td>\n",
       "      <td>10.0</td>\n",
       "      <td>5217.0</td>\n",
       "      <td>415434.0</td>\n",
       "    </tr>\n",
       "    <tr>\n",
       "      <th>4422</th>\n",
       "      <td>2019.02</td>\n",
       "      <td>34.0</td>\n",
       "      <td>63.249269</td>\n",
       "      <td>10.0</td>\n",
       "      <td>5212.0</td>\n",
       "      <td>271698.0</td>\n",
       "    </tr>\n",
       "    <tr>\n",
       "      <th>8337</th>\n",
       "      <td>2020.03</td>\n",
       "      <td>30.0</td>\n",
       "      <td>231.602328</td>\n",
       "      <td>10.0</td>\n",
       "      <td>5212.0</td>\n",
       "      <td>295032.0</td>\n",
       "    </tr>\n",
       "    <tr>\n",
       "      <th>8081</th>\n",
       "      <td>2021.11</td>\n",
       "      <td>7.0</td>\n",
       "      <td>497.646844</td>\n",
       "      <td>10.0</td>\n",
       "      <td>5222.0</td>\n",
       "      <td>726336.0</td>\n",
       "    </tr>\n",
       "  </tbody>\n",
       "</table>\n",
       "</div>"
      ],
      "text/plain": [
       "     TransactionDate  HouseAge  DistanceToStation  NumberOfPubs PostCode  \\\n",
       "ID                                                                         \n",
       "13           2019.05       8.0         273.264542     4999999.0   5213.0   \n",
       "6662         2021.07      34.0         243.192562          10.0   5217.0   \n",
       "4422         2019.02      34.0          63.249269          10.0   5212.0   \n",
       "8337         2020.03      30.0         231.602328          10.0   5212.0   \n",
       "8081         2021.11       7.0         497.646844          10.0   5222.0   \n",
       "\n",
       "      HousePrice  \n",
       "ID                \n",
       "13      356012.0  \n",
       "6662    415434.0  \n",
       "4422    271698.0  \n",
       "8337    295032.0  \n",
       "8081    726336.0  "
      ]
     },
     "execution_count": 62,
     "metadata": {},
     "output_type": "execute_result"
    }
   ],
   "source": [
    "train.sort_values(\"NumberOfPubs\", ascending=False).head()"
   ]
  },
  {
   "cell_type": "code",
   "execution_count": 65,
   "metadata": {},
   "outputs": [],
   "source": [
    "# train = train.drop(13)\n",
    "# train = train.drop(train[train[\"NumberOfPubs\"] > 20].index)\n",
    "train.drop(train[train[\"NumberOfPubs\"] > 20].index, inplace=True)"
   ]
  },
  {
   "cell_type": "code",
   "execution_count": 66,
   "metadata": {},
   "outputs": [
    {
     "data": {
      "image/png": "[encoded data removed]",
      "text/plain": [
       "<Figure size 2000x1500 with 4 Axes>"
      ]
     },
     "metadata": {},
     "output_type": "display_data"
    }
   ],
   "source": [
    "train.hist(bins=50, figsize=(20, 15))\n",
    "plt.show()"
   ]
  },
  {
   "cell_type": "markdown",
   "metadata": {
    "tags": []
   },
   "source": [
    "## Analyse Categorical Variables"
   ]
  },
  {
   "cell_type": "markdown",
   "metadata": {
    "tags": []
   },
   "source": [
    "## Analyse Relationships Numeric/Numeric"
   ]
  },
  {
   "cell_type": "markdown",
   "metadata": {
    "tags": []
   },
   "source": [
    "### Calculate Pearson's Correlation"
   ]
  },
  {
   "cell_type": "markdown",
   "metadata": {
    "tags": []
   },
   "source": [
    "## Analyse Relationships Cat/Num"
   ]
  },
  {
   "cell_type": "markdown",
   "metadata": {
    "tags": []
   },
   "source": [
    "### Is Post Code Driving Value?"
   ]
  },
  {
   "cell_type": "markdown",
   "metadata": {
    "tags": []
   },
   "source": [
    "### What about the date it was sold?"
   ]
  },
  {
   "cell_type": "markdown",
   "metadata": {
    "jp-MarkdownHeadingCollapsed": true,
    "tags": []
   },
   "source": [
    "# 4. Data Preprocessing"
   ]
  },
  {
   "cell_type": "markdown",
   "metadata": {
    "tags": []
   },
   "source": [
    "## Build Preprocessing Function"
   ]
  },
  {
   "cell_type": "markdown",
   "metadata": {
    "tags": []
   },
   "source": [
    "## Preview Preprocessed Data"
   ]
  },
  {
   "cell_type": "markdown",
   "metadata": {
    "tags": []
   },
   "source": [
    "## Clean up Analysis Features"
   ]
  },
  {
   "cell_type": "markdown",
   "metadata": {
    "tags": []
   },
   "source": [
    "## Create X and y values"
   ]
  },
  {
   "cell_type": "markdown",
   "metadata": {
    "jp-MarkdownHeadingCollapsed": true,
    "tags": []
   },
   "source": [
    "# 5. Modelling"
   ]
  },
  {
   "cell_type": "markdown",
   "metadata": {
    "tags": []
   },
   "source": [
    "## Import ML Dependencies"
   ]
  },
  {
   "cell_type": "markdown",
   "metadata": {
    "tags": []
   },
   "source": [
    "## Create Pipelines"
   ]
  },
  {
   "cell_type": "markdown",
   "metadata": {
    "tags": []
   },
   "source": [
    "### Training Outside of a Pipeline"
   ]
  },
  {
   "cell_type": "markdown",
   "metadata": {
    "tags": []
   },
   "source": [
    "## Create Tuning Grids"
   ]
  },
  {
   "cell_type": "markdown",
   "metadata": {
    "tags": []
   },
   "source": [
    "## Train Models and Perform HPO"
   ]
  },
  {
   "cell_type": "markdown",
   "metadata": {
    "jp-MarkdownHeadingCollapsed": true,
    "tags": []
   },
   "source": [
    "# 6. Evaluate Models"
   ]
  },
  {
   "cell_type": "markdown",
   "metadata": {
    "tags": []
   },
   "source": [
    "## Import Evaluation Metrics"
   ]
  },
  {
   "cell_type": "markdown",
   "metadata": {
    "tags": []
   },
   "source": [
    "## Preprocess Test Set For Predictions"
   ]
  },
  {
   "cell_type": "markdown",
   "metadata": {
    "tags": []
   },
   "source": [
    "### Look for Nulls"
   ]
  },
  {
   "cell_type": "markdown",
   "metadata": {
    "tags": []
   },
   "source": [
    "### Check datatypes"
   ]
  },
  {
   "cell_type": "markdown",
   "metadata": {
    "tags": []
   },
   "source": [
    "### Create X_test and y_test "
   ]
  },
  {
   "cell_type": "markdown",
   "metadata": {
    "tags": []
   },
   "source": [
    "## Calculate Regression Metrics"
   ]
  },
  {
   "cell_type": "markdown",
   "metadata": {
    "tags": []
   },
   "source": [
    "## Make Predictions"
   ]
  },
  {
   "cell_type": "markdown",
   "metadata": {
    "tags": []
   },
   "source": [
    "## Explain model"
   ]
  },
  {
   "cell_type": "markdown",
   "metadata": {},
   "source": [
    "### Calculate Feature Importance"
   ]
  },
  {
   "cell_type": "markdown",
   "metadata": {},
   "source": [
    "### Calculate Feature Importance for All Models"
   ]
  },
  {
   "cell_type": "markdown",
   "metadata": {},
   "source": [
    "### Plot Trees"
   ]
  },
  {
   "cell_type": "markdown",
   "metadata": {
    "tags": []
   },
   "source": [
    "# 7. Save model"
   ]
  }
 ],
 "metadata": {
  "kernelspec": {
   "display_name": "3.13.0",
   "language": "python",
   "name": "python3"
  },
  "language_info": {
   "codemirror_mode": {
    "name": "ipython",
    "version": 3
   },
   "file_extension": ".py",
   "mimetype": "text/x-python",
   "name": "python",
   "nbconvert_exporter": "python",
   "pygments_lexer": "ipython3",
   "version": "3.13.0"
  }
 },
 "nbformat": 4,
 "nbformat_minor": 4
}
